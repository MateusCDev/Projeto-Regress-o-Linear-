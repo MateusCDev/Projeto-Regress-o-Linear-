{
  "cells": [
    {
      "cell_type": "markdown",
      "metadata": {
        "id": "view-in-github",
        "colab_type": "text"
      },
      "source": [
        "<a href=\"https://colab.research.google.com/github/MateusCDev/Projeto_LinearRegress/blob/master/Regress%C3%A3o_Linear_Predicao_da_Idade_dos_Passageiros_do_Titanic.ipynb\" target=\"_parent\"><img src=\"https://colab.research.google.com/assets/colab-badge.svg\" alt=\"Open In Colab\"/></a>"
      ]
    },
    {
      "cell_type": "markdown",
      "metadata": {
        "id": "hAX13BObmSho"
      },
      "source": [
        "# Regressão Linear - Predição da Idade"
      ]
    },
    {
      "cell_type": "markdown",
      "metadata": {
        "id": "orhbe7HHmShu"
      },
      "source": [
        "### importar bibliotecas"
      ]
    },
    {
      "cell_type": "code",
      "execution_count": 2,
      "metadata": {
        "id": "khDu0JNqmShv"
      },
      "outputs": [],
      "source": [
        "import pandas as pd\n",
        "import numpy as np\n",
        "import seaborn as sns\n",
        "import matplotlib.pyplot as plt\n",
        "%matplotlib inline"
      ]
    },
    {
      "cell_type": "code",
      "source": [
        "from google.colab import drive\n",
        "drive.mount('/content/drive')"
      ],
      "metadata": {
        "colab": {
          "base_uri": "https://localhost:8080/"
        },
        "id": "T3-UQyd0misW",
        "outputId": "b459ed78-d7df-489f-ff0b-8cfff222a6d4"
      },
      "execution_count": 1,
      "outputs": [
        {
          "output_type": "stream",
          "name": "stdout",
          "text": [
            "Mounted at /content/drive\n"
          ]
        }
      ]
    },
    {
      "cell_type": "markdown",
      "metadata": {
        "id": "CnYYHsN_mShw"
      },
      "source": [
        "### ler train.csv e test.csv"
      ]
    },
    {
      "cell_type": "code",
      "execution_count": 3,
      "metadata": {
        "id": "tjxWjvZomShw"
      },
      "outputs": [],
      "source": [
        "train = pd.read_csv('/content/drive/MyDrive/Recursos/09 - Projeto - Regressao Linear - Predicao da Idade/titanic/train.csv')"
      ]
    },
    {
      "cell_type": "code",
      "execution_count": 4,
      "metadata": {
        "id": "CTRN2jNSmShx"
      },
      "outputs": [],
      "source": [
        "test = pd.read_csv('/content/drive/MyDrive/Recursos/09 - Projeto - Regressao Linear - Predicao da Idade/titanic/test.csv')"
      ]
    },
    {
      "cell_type": "markdown",
      "metadata": {
        "id": "3GeYbmqMmShx"
      },
      "source": [
        "### transformar definir o Id do Passageiro como Index"
      ]
    },
    {
      "cell_type": "code",
      "execution_count": 7,
      "metadata": {
        "id": "LIA1lBA5mShy"
      },
      "outputs": [],
      "source": [
        "train.set_index('PassengerId', inplace=True)"
      ]
    },
    {
      "cell_type": "code",
      "execution_count": 8,
      "metadata": {
        "id": "NPGRTLIumShy"
      },
      "outputs": [],
      "source": [
        "test.set_index('PassengerId', inplace=True)"
      ]
    },
    {
      "cell_type": "markdown",
      "metadata": {
        "id": "TnLfq91-mShz"
      },
      "source": [
        "### Verificar shape dos dois"
      ]
    },
    {
      "cell_type": "code",
      "execution_count": 9,
      "metadata": {
        "colab": {
          "base_uri": "https://localhost:8080/"
        },
        "id": "X_xw4-uZmShz",
        "outputId": "5d6b0ac3-e425-47ec-faf2-f917d5225255"
      },
      "outputs": [
        {
          "output_type": "execute_result",
          "data": {
            "text/plain": [
              "((891, 11), (418, 10))"
            ]
          },
          "metadata": {},
          "execution_count": 9
        }
      ],
      "source": [
        "train.shape, test.shape"
      ]
    },
    {
      "cell_type": "markdown",
      "metadata": {
        "id": "9OXr6hN8mSh0"
      },
      "source": [
        "### Criar coluna \"Survived\" no test set"
      ]
    },
    {
      "cell_type": "code",
      "execution_count": 10,
      "metadata": {
        "id": "qiGLvjqqmSh0"
      },
      "outputs": [],
      "source": [
        "test['Survived'] = np.nan"
      ]
    },
    {
      "cell_type": "markdown",
      "metadata": {
        "id": "EjwrlbubmSh0"
      },
      "source": [
        "### Conferir shape novamente"
      ]
    },
    {
      "cell_type": "code",
      "execution_count": 11,
      "metadata": {
        "colab": {
          "base_uri": "https://localhost:8080/"
        },
        "id": "2mgAhFjJmSh1",
        "outputId": "c8cb0be0-dd95-467c-f2e7-945b84bc988d"
      },
      "outputs": [
        {
          "output_type": "execute_result",
          "data": {
            "text/plain": [
              "((891, 11), (418, 11))"
            ]
          },
          "metadata": {},
          "execution_count": 11
        }
      ],
      "source": [
        "train.shape, test.shape"
      ]
    },
    {
      "cell_type": "markdown",
      "metadata": {
        "id": "CNW4akc2mSh1"
      },
      "source": [
        "### Concatenar train e test set"
      ]
    },
    {
      "cell_type": "code",
      "execution_count": 12,
      "metadata": {
        "id": "Hxptk4VpmSh1"
      },
      "outputs": [],
      "source": [
        "data = pd.concat([train, test], sort=True)"
      ]
    },
    {
      "cell_type": "code",
      "execution_count": 14,
      "metadata": {
        "colab": {
          "base_uri": "https://localhost:8080/"
        },
        "id": "LZ9t2sVFmSh1",
        "outputId": "9d6cca81-a9e4-4987-b1c8-1cdc637904e0"
      },
      "outputs": [
        {
          "output_type": "execute_result",
          "data": {
            "text/plain": [
              "(1309, 11)"
            ]
          },
          "metadata": {},
          "execution_count": 14
        }
      ],
      "source": [
        "data.shape"
      ]
    },
    {
      "cell_type": "markdown",
      "metadata": {
        "id": "YqVrdY7XmSh1"
      },
      "source": [
        "### Traduzir colunas"
      ]
    },
    {
      "cell_type": "code",
      "execution_count": 15,
      "metadata": {
        "colab": {
          "base_uri": "https://localhost:8080/"
        },
        "id": "uNEyDP7NmSh2",
        "outputId": "35549daf-c2a2-4557-c1d5-017c819967f3"
      },
      "outputs": [
        {
          "output_type": "execute_result",
          "data": {
            "text/plain": [
              "Index(['Age', 'Cabin', 'Embarked', 'Fare', 'Name', 'Parch', 'Pclass', 'Sex',\n",
              "       'SibSp', 'Survived', 'Ticket'],\n",
              "      dtype='object')"
            ]
          },
          "metadata": {},
          "execution_count": 15
        }
      ],
      "source": [
        "data.columns"
      ]
    },
    {
      "cell_type": "code",
      "execution_count": 18,
      "metadata": {
        "id": "ngXuxe5PmSh2"
      },
      "outputs": [],
      "source": [
        "data.columns = ['Idade', 'Cabine', 'Embarque', 'Tarifa', 'Nome', 'PaisFilhos', 'Classe', 'Sexo',\n",
        "                'IrmaosConjuge', 'Sobreviveu', 'Bilhete']"
      ]
    },
    {
      "cell_type": "markdown",
      "metadata": {
        "id": "7BF79CNrmSh2"
      },
      "source": [
        "### Traduzir Sexo"
      ]
    },
    {
      "cell_type": "code",
      "execution_count": 21,
      "metadata": {
        "colab": {
          "base_uri": "https://localhost:8080/",
          "height": 507
        },
        "id": "NOHHEtCgmSh3",
        "outputId": "e2e772e3-235c-4be9-af92-7b4ee004ec63"
      },
      "outputs": [
        {
          "output_type": "execute_result",
          "data": {
            "text/plain": [
              "             Idade Cabine Embarque   Tarifa  \\\n",
              "PassengerId                                   \n",
              "1             22.0    NaN        S   7.2500   \n",
              "2             38.0    C85        C  71.2833   \n",
              "3             26.0    NaN        S   7.9250   \n",
              "4             35.0   C123        S  53.1000   \n",
              "5             35.0    NaN        S   8.0500   \n",
              "\n",
              "                                                          Nome  PaisFilhos  \\\n",
              "PassengerId                                                                  \n",
              "1                                      Braund, Mr. Owen Harris           0   \n",
              "2            Cumings, Mrs. John Bradley (Florence Briggs Th...           0   \n",
              "3                                       Heikkinen, Miss. Laina           0   \n",
              "4                 Futrelle, Mrs. Jacques Heath (Lily May Peel)           0   \n",
              "5                                     Allen, Mr. William Henry           0   \n",
              "\n",
              "             Classe    Sexo  IrmaosConjuge  Sobreviveu           Bilhete  \n",
              "PassengerId                                                               \n",
              "1                 3   homem              1         0.0         A/5 21171  \n",
              "2                 1  mulher              1         1.0          PC 17599  \n",
              "3                 3  mulher              0         1.0  STON/O2. 3101282  \n",
              "4                 1  mulher              1         1.0            113803  \n",
              "5                 3   homem              0         0.0            373450  "
            ],
            "text/html": [
              "\n",
              "  <div id=\"df-8200090c-681d-49e7-9dd7-8b93c1314cbc\">\n",
              "    <div class=\"colab-df-container\">\n",
              "      <div>\n",
              "<style scoped>\n",
              "    .dataframe tbody tr th:only-of-type {\n",
              "        vertical-align: middle;\n",
              "    }\n",
              "\n",
              "    .dataframe tbody tr th {\n",
              "        vertical-align: top;\n",
              "    }\n",
              "\n",
              "    .dataframe thead th {\n",
              "        text-align: right;\n",
              "    }\n",
              "</style>\n",
              "<table border=\"1\" class=\"dataframe\">\n",
              "  <thead>\n",
              "    <tr style=\"text-align: right;\">\n",
              "      <th></th>\n",
              "      <th>Idade</th>\n",
              "      <th>Cabine</th>\n",
              "      <th>Embarque</th>\n",
              "      <th>Tarifa</th>\n",
              "      <th>Nome</th>\n",
              "      <th>PaisFilhos</th>\n",
              "      <th>Classe</th>\n",
              "      <th>Sexo</th>\n",
              "      <th>IrmaosConjuge</th>\n",
              "      <th>Sobreviveu</th>\n",
              "      <th>Bilhete</th>\n",
              "    </tr>\n",
              "    <tr>\n",
              "      <th>PassengerId</th>\n",
              "      <th></th>\n",
              "      <th></th>\n",
              "      <th></th>\n",
              "      <th></th>\n",
              "      <th></th>\n",
              "      <th></th>\n",
              "      <th></th>\n",
              "      <th></th>\n",
              "      <th></th>\n",
              "      <th></th>\n",
              "      <th></th>\n",
              "    </tr>\n",
              "  </thead>\n",
              "  <tbody>\n",
              "    <tr>\n",
              "      <th>1</th>\n",
              "      <td>22.0</td>\n",
              "      <td>NaN</td>\n",
              "      <td>S</td>\n",
              "      <td>7.2500</td>\n",
              "      <td>Braund, Mr. Owen Harris</td>\n",
              "      <td>0</td>\n",
              "      <td>3</td>\n",
              "      <td>homem</td>\n",
              "      <td>1</td>\n",
              "      <td>0.0</td>\n",
              "      <td>A/5 21171</td>\n",
              "    </tr>\n",
              "    <tr>\n",
              "      <th>2</th>\n",
              "      <td>38.0</td>\n",
              "      <td>C85</td>\n",
              "      <td>C</td>\n",
              "      <td>71.2833</td>\n",
              "      <td>Cumings, Mrs. John Bradley (Florence Briggs Th...</td>\n",
              "      <td>0</td>\n",
              "      <td>1</td>\n",
              "      <td>mulher</td>\n",
              "      <td>1</td>\n",
              "      <td>1.0</td>\n",
              "      <td>PC 17599</td>\n",
              "    </tr>\n",
              "    <tr>\n",
              "      <th>3</th>\n",
              "      <td>26.0</td>\n",
              "      <td>NaN</td>\n",
              "      <td>S</td>\n",
              "      <td>7.9250</td>\n",
              "      <td>Heikkinen, Miss. Laina</td>\n",
              "      <td>0</td>\n",
              "      <td>3</td>\n",
              "      <td>mulher</td>\n",
              "      <td>0</td>\n",
              "      <td>1.0</td>\n",
              "      <td>STON/O2. 3101282</td>\n",
              "    </tr>\n",
              "    <tr>\n",
              "      <th>4</th>\n",
              "      <td>35.0</td>\n",
              "      <td>C123</td>\n",
              "      <td>S</td>\n",
              "      <td>53.1000</td>\n",
              "      <td>Futrelle, Mrs. Jacques Heath (Lily May Peel)</td>\n",
              "      <td>0</td>\n",
              "      <td>1</td>\n",
              "      <td>mulher</td>\n",
              "      <td>1</td>\n",
              "      <td>1.0</td>\n",
              "      <td>113803</td>\n",
              "    </tr>\n",
              "    <tr>\n",
              "      <th>5</th>\n",
              "      <td>35.0</td>\n",
              "      <td>NaN</td>\n",
              "      <td>S</td>\n",
              "      <td>8.0500</td>\n",
              "      <td>Allen, Mr. William Henry</td>\n",
              "      <td>0</td>\n",
              "      <td>3</td>\n",
              "      <td>homem</td>\n",
              "      <td>0</td>\n",
              "      <td>0.0</td>\n",
              "      <td>373450</td>\n",
              "    </tr>\n",
              "  </tbody>\n",
              "</table>\n",
              "</div>\n",
              "      <button class=\"colab-df-convert\" onclick=\"convertToInteractive('df-8200090c-681d-49e7-9dd7-8b93c1314cbc')\"\n",
              "              title=\"Convert this dataframe to an interactive table.\"\n",
              "              style=\"display:none;\">\n",
              "        \n",
              "  <svg xmlns=\"http://www.w3.org/2000/svg\" height=\"24px\"viewBox=\"0 0 24 24\"\n",
              "       width=\"24px\">\n",
              "    <path d=\"M0 0h24v24H0V0z\" fill=\"none\"/>\n",
              "    <path d=\"M18.56 5.44l.94 2.06.94-2.06 2.06-.94-2.06-.94-.94-2.06-.94 2.06-2.06.94zm-11 1L8.5 8.5l.94-2.06 2.06-.94-2.06-.94L8.5 2.5l-.94 2.06-2.06.94zm10 10l.94 2.06.94-2.06 2.06-.94-2.06-.94-.94-2.06-.94 2.06-2.06.94z\"/><path d=\"M17.41 7.96l-1.37-1.37c-.4-.4-.92-.59-1.43-.59-.52 0-1.04.2-1.43.59L10.3 9.45l-7.72 7.72c-.78.78-.78 2.05 0 2.83L4 21.41c.39.39.9.59 1.41.59.51 0 1.02-.2 1.41-.59l7.78-7.78 2.81-2.81c.8-.78.8-2.07 0-2.86zM5.41 20L4 18.59l7.72-7.72 1.47 1.35L5.41 20z\"/>\n",
              "  </svg>\n",
              "      </button>\n",
              "      \n",
              "  <style>\n",
              "    .colab-df-container {\n",
              "      display:flex;\n",
              "      flex-wrap:wrap;\n",
              "      gap: 12px;\n",
              "    }\n",
              "\n",
              "    .colab-df-convert {\n",
              "      background-color: #E8F0FE;\n",
              "      border: none;\n",
              "      border-radius: 50%;\n",
              "      cursor: pointer;\n",
              "      display: none;\n",
              "      fill: #1967D2;\n",
              "      height: 32px;\n",
              "      padding: 0 0 0 0;\n",
              "      width: 32px;\n",
              "    }\n",
              "\n",
              "    .colab-df-convert:hover {\n",
              "      background-color: #E2EBFA;\n",
              "      box-shadow: 0px 1px 2px rgba(60, 64, 67, 0.3), 0px 1px 3px 1px rgba(60, 64, 67, 0.15);\n",
              "      fill: #174EA6;\n",
              "    }\n",
              "\n",
              "    [theme=dark] .colab-df-convert {\n",
              "      background-color: #3B4455;\n",
              "      fill: #D2E3FC;\n",
              "    }\n",
              "\n",
              "    [theme=dark] .colab-df-convert:hover {\n",
              "      background-color: #434B5C;\n",
              "      box-shadow: 0px 1px 3px 1px rgba(0, 0, 0, 0.15);\n",
              "      filter: drop-shadow(0px 1px 2px rgba(0, 0, 0, 0.3));\n",
              "      fill: #FFFFFF;\n",
              "    }\n",
              "  </style>\n",
              "\n",
              "      <script>\n",
              "        const buttonEl =\n",
              "          document.querySelector('#df-8200090c-681d-49e7-9dd7-8b93c1314cbc button.colab-df-convert');\n",
              "        buttonEl.style.display =\n",
              "          google.colab.kernel.accessAllowed ? 'block' : 'none';\n",
              "\n",
              "        async function convertToInteractive(key) {\n",
              "          const element = document.querySelector('#df-8200090c-681d-49e7-9dd7-8b93c1314cbc');\n",
              "          const dataTable =\n",
              "            await google.colab.kernel.invokeFunction('convertToInteractive',\n",
              "                                                     [key], {});\n",
              "          if (!dataTable) return;\n",
              "\n",
              "          const docLinkHtml = 'Like what you see? Visit the ' +\n",
              "            '<a target=\"_blank\" href=https://colab.research.google.com/notebooks/data_table.ipynb>data table notebook</a>'\n",
              "            + ' to learn more about interactive tables.';\n",
              "          element.innerHTML = '';\n",
              "          dataTable['output_type'] = 'display_data';\n",
              "          await google.colab.output.renderOutput(dataTable, element);\n",
              "          const docLink = document.createElement('div');\n",
              "          docLink.innerHTML = docLinkHtml;\n",
              "          element.appendChild(docLink);\n",
              "        }\n",
              "      </script>\n",
              "    </div>\n",
              "  </div>\n",
              "  "
            ]
          },
          "metadata": {},
          "execution_count": 21
        }
      ],
      "source": [
        "data.head()"
      ]
    },
    {
      "cell_type": "code",
      "execution_count": 20,
      "metadata": {
        "id": "zv65-FDLmSh3"
      },
      "outputs": [],
      "source": [
        "data['Sexo'] = data['Sexo'].map({'male':'homem', 'female': 'mulher'})"
      ]
    },
    {
      "cell_type": "markdown",
      "metadata": {
        "id": "p3BrpD2rmSh3"
      },
      "source": [
        "### Averiguar dados nulos"
      ]
    },
    {
      "cell_type": "code",
      "execution_count": 26,
      "metadata": {
        "colab": {
          "base_uri": "https://localhost:8080/"
        },
        "id": "E4uwL7lhmSh3",
        "outputId": "919c034a-d46e-4bfe-e71d-834a25f77c47"
      },
      "outputs": [
        {
          "output_type": "execute_result",
          "data": {
            "text/plain": [
              "Idade            263\n",
              "Embarque           2\n",
              "Tarifa             1\n",
              "Nome               0\n",
              "PaisFilhos         0\n",
              "Classe             0\n",
              "Sexo               0\n",
              "IrmaosConjuge      0\n",
              "Sobreviveu       418\n",
              "Bilhete            0\n",
              "dtype: int64"
            ]
          },
          "metadata": {},
          "execution_count": 26
        }
      ],
      "source": [
        "data.isnull().sum()"
      ]
    },
    {
      "cell_type": "markdown",
      "metadata": {
        "id": "MmjPhpoumSh3"
      },
      "source": [
        "### Remover Cabine"
      ]
    },
    {
      "cell_type": "code",
      "execution_count": 25,
      "metadata": {
        "id": "vAYmUnFpmSh3"
      },
      "outputs": [],
      "source": [
        "data.drop('Cabine', axis=1, inplace=True)"
      ]
    },
    {
      "cell_type": "markdown",
      "metadata": {
        "id": "lPzsAc_9mSh4"
      },
      "source": [
        "### Checar dados nulos novamente"
      ]
    },
    {
      "cell_type": "code",
      "execution_count": 36,
      "metadata": {
        "colab": {
          "base_uri": "https://localhost:8080/"
        },
        "id": "NGxmFYl_mSh4",
        "outputId": "6a86ae84-0e8d-476e-e402-7eeec8e5fc3d"
      },
      "outputs": [
        {
          "output_type": "execute_result",
          "data": {
            "text/plain": [
              "Idade            263\n",
              "Embarque           0\n",
              "Tarifa             1\n",
              "Nome               0\n",
              "PaisFilhos         0\n",
              "Classe             0\n",
              "Sexo               0\n",
              "IrmaosConjuge      0\n",
              "Sobreviveu       418\n",
              "Bilhete            0\n",
              "dtype: int64"
            ]
          },
          "metadata": {},
          "execution_count": 36
        }
      ],
      "source": [
        "data.isnull().sum()"
      ]
    },
    {
      "cell_type": "markdown",
      "metadata": {
        "id": "6RNsbAxGmSh4"
      },
      "source": [
        "### Preencher dados nulos de \"Embarque\" com a moda"
      ]
    },
    {
      "cell_type": "code",
      "execution_count": 28,
      "metadata": {
        "colab": {
          "base_uri": "https://localhost:8080/"
        },
        "id": "XoZD9CNBmSh4",
        "outputId": "da334841-91fc-4a10-d935-62eada6d1870"
      },
      "outputs": [
        {
          "output_type": "execute_result",
          "data": {
            "text/plain": [
              "array(['S', 'C', 'Q', nan], dtype=object)"
            ]
          },
          "metadata": {},
          "execution_count": 28
        }
      ],
      "source": [
        "data['Embarque'].unique()"
      ]
    },
    {
      "cell_type": "code",
      "execution_count": 32,
      "metadata": {
        "id": "IB1kn6OImSh4"
      },
      "outputs": [],
      "source": [
        "moda = data['Embarque'].mode()[0]"
      ]
    },
    {
      "cell_type": "code",
      "execution_count": 35,
      "metadata": {
        "id": "HyZ0k3kImSh4"
      },
      "outputs": [],
      "source": [
        "data['Embarque'].fillna(moda, inplace=True) # prenchendo os dados nulos com a moda"
      ]
    },
    {
      "cell_type": "markdown",
      "metadata": {
        "id": "vvh_5T-PmSh4"
      },
      "source": [
        "### Checar dados nulos novamente"
      ]
    },
    {
      "cell_type": "code",
      "execution_count": 37,
      "metadata": {
        "colab": {
          "base_uri": "https://localhost:8080/"
        },
        "id": "kPJQOlFbmSh5",
        "outputId": "c9d42487-4474-4350-aa13-0eec9c0d1ad0"
      },
      "outputs": [
        {
          "output_type": "execute_result",
          "data": {
            "text/plain": [
              "Idade            263\n",
              "Embarque           0\n",
              "Tarifa             1\n",
              "Nome               0\n",
              "PaisFilhos         0\n",
              "Classe             0\n",
              "Sexo               0\n",
              "IrmaosConjuge      0\n",
              "Sobreviveu       418\n",
              "Bilhete            0\n",
              "dtype: int64"
            ]
          },
          "metadata": {},
          "execution_count": 37
        }
      ],
      "source": [
        "data.isnull().sum()"
      ]
    },
    {
      "cell_type": "markdown",
      "metadata": {
        "id": "2Fphhn6ymSh5"
      },
      "source": [
        "### Preencher \"Tarifa\" faltando com a média"
      ]
    },
    {
      "cell_type": "code",
      "execution_count": 39,
      "metadata": {
        "id": "OQPHGablmSh5"
      },
      "outputs": [],
      "source": [
        "media = data['Tarifa'].mean()"
      ]
    },
    {
      "cell_type": "code",
      "execution_count": 40,
      "metadata": {
        "id": "bfrfviwzmSh5"
      },
      "outputs": [],
      "source": [
        "data['Tarifa'].fillna(media, inplace=True)"
      ]
    },
    {
      "cell_type": "markdown",
      "metadata": {
        "id": "ioaLM2sGmSh5"
      },
      "source": [
        "### Checar dados nulos"
      ]
    },
    {
      "cell_type": "code",
      "execution_count": 41,
      "metadata": {
        "colab": {
          "base_uri": "https://localhost:8080/"
        },
        "id": "WggOXzNymSh6",
        "outputId": "d86343ef-5761-48f3-9e81-81059bd652a9"
      },
      "outputs": [
        {
          "output_type": "execute_result",
          "data": {
            "text/plain": [
              "Idade            263\n",
              "Embarque           0\n",
              "Tarifa             0\n",
              "Nome               0\n",
              "PaisFilhos         0\n",
              "Classe             0\n",
              "Sexo               0\n",
              "IrmaosConjuge      0\n",
              "Sobreviveu       418\n",
              "Bilhete            0\n",
              "dtype: int64"
            ]
          },
          "metadata": {},
          "execution_count": 41
        }
      ],
      "source": [
        "data.isnull().sum()"
      ]
    },
    {
      "cell_type": "markdown",
      "metadata": {
        "id": "08sQsvsqmSh6"
      },
      "source": [
        "### Verificar correlações"
      ]
    },
    {
      "cell_type": "code",
      "execution_count": 42,
      "metadata": {
        "colab": {
          "base_uri": "https://localhost:8080/",
          "height": 238
        },
        "id": "VfMYYvZ_mSh6",
        "outputId": "b3e52a75-7bc2-4cee-bdcd-aef377750071"
      },
      "outputs": [
        {
          "output_type": "execute_result",
          "data": {
            "text/plain": [
              "                  Idade    Tarifa  PaisFilhos    Classe  IrmaosConjuge  \\\n",
              "Idade          1.000000  0.178229   -0.150917 -0.408106      -0.243699   \n",
              "Tarifa         0.178229  1.000000    0.221522 -0.558477       0.160224   \n",
              "PaisFilhos    -0.150917  0.221522    1.000000  0.018322       0.373587   \n",
              "Classe        -0.408106 -0.558477    0.018322  1.000000       0.060832   \n",
              "IrmaosConjuge -0.243699  0.160224    0.373587  0.060832       1.000000   \n",
              "Sobreviveu    -0.077221  0.257307    0.081629 -0.338481      -0.035322   \n",
              "\n",
              "               Sobreviveu  \n",
              "Idade           -0.077221  \n",
              "Tarifa           0.257307  \n",
              "PaisFilhos       0.081629  \n",
              "Classe          -0.338481  \n",
              "IrmaosConjuge   -0.035322  \n",
              "Sobreviveu       1.000000  "
            ],
            "text/html": [
              "\n",
              "  <div id=\"df-fe1c846f-a77d-48f0-a8c3-33ce66ef080d\">\n",
              "    <div class=\"colab-df-container\">\n",
              "      <div>\n",
              "<style scoped>\n",
              "    .dataframe tbody tr th:only-of-type {\n",
              "        vertical-align: middle;\n",
              "    }\n",
              "\n",
              "    .dataframe tbody tr th {\n",
              "        vertical-align: top;\n",
              "    }\n",
              "\n",
              "    .dataframe thead th {\n",
              "        text-align: right;\n",
              "    }\n",
              "</style>\n",
              "<table border=\"1\" class=\"dataframe\">\n",
              "  <thead>\n",
              "    <tr style=\"text-align: right;\">\n",
              "      <th></th>\n",
              "      <th>Idade</th>\n",
              "      <th>Tarifa</th>\n",
              "      <th>PaisFilhos</th>\n",
              "      <th>Classe</th>\n",
              "      <th>IrmaosConjuge</th>\n",
              "      <th>Sobreviveu</th>\n",
              "    </tr>\n",
              "  </thead>\n",
              "  <tbody>\n",
              "    <tr>\n",
              "      <th>Idade</th>\n",
              "      <td>1.000000</td>\n",
              "      <td>0.178229</td>\n",
              "      <td>-0.150917</td>\n",
              "      <td>-0.408106</td>\n",
              "      <td>-0.243699</td>\n",
              "      <td>-0.077221</td>\n",
              "    </tr>\n",
              "    <tr>\n",
              "      <th>Tarifa</th>\n",
              "      <td>0.178229</td>\n",
              "      <td>1.000000</td>\n",
              "      <td>0.221522</td>\n",
              "      <td>-0.558477</td>\n",
              "      <td>0.160224</td>\n",
              "      <td>0.257307</td>\n",
              "    </tr>\n",
              "    <tr>\n",
              "      <th>PaisFilhos</th>\n",
              "      <td>-0.150917</td>\n",
              "      <td>0.221522</td>\n",
              "      <td>1.000000</td>\n",
              "      <td>0.018322</td>\n",
              "      <td>0.373587</td>\n",
              "      <td>0.081629</td>\n",
              "    </tr>\n",
              "    <tr>\n",
              "      <th>Classe</th>\n",
              "      <td>-0.408106</td>\n",
              "      <td>-0.558477</td>\n",
              "      <td>0.018322</td>\n",
              "      <td>1.000000</td>\n",
              "      <td>0.060832</td>\n",
              "      <td>-0.338481</td>\n",
              "    </tr>\n",
              "    <tr>\n",
              "      <th>IrmaosConjuge</th>\n",
              "      <td>-0.243699</td>\n",
              "      <td>0.160224</td>\n",
              "      <td>0.373587</td>\n",
              "      <td>0.060832</td>\n",
              "      <td>1.000000</td>\n",
              "      <td>-0.035322</td>\n",
              "    </tr>\n",
              "    <tr>\n",
              "      <th>Sobreviveu</th>\n",
              "      <td>-0.077221</td>\n",
              "      <td>0.257307</td>\n",
              "      <td>0.081629</td>\n",
              "      <td>-0.338481</td>\n",
              "      <td>-0.035322</td>\n",
              "      <td>1.000000</td>\n",
              "    </tr>\n",
              "  </tbody>\n",
              "</table>\n",
              "</div>\n",
              "      <button class=\"colab-df-convert\" onclick=\"convertToInteractive('df-fe1c846f-a77d-48f0-a8c3-33ce66ef080d')\"\n",
              "              title=\"Convert this dataframe to an interactive table.\"\n",
              "              style=\"display:none;\">\n",
              "        \n",
              "  <svg xmlns=\"http://www.w3.org/2000/svg\" height=\"24px\"viewBox=\"0 0 24 24\"\n",
              "       width=\"24px\">\n",
              "    <path d=\"M0 0h24v24H0V0z\" fill=\"none\"/>\n",
              "    <path d=\"M18.56 5.44l.94 2.06.94-2.06 2.06-.94-2.06-.94-.94-2.06-.94 2.06-2.06.94zm-11 1L8.5 8.5l.94-2.06 2.06-.94-2.06-.94L8.5 2.5l-.94 2.06-2.06.94zm10 10l.94 2.06.94-2.06 2.06-.94-2.06-.94-.94-2.06-.94 2.06-2.06.94z\"/><path d=\"M17.41 7.96l-1.37-1.37c-.4-.4-.92-.59-1.43-.59-.52 0-1.04.2-1.43.59L10.3 9.45l-7.72 7.72c-.78.78-.78 2.05 0 2.83L4 21.41c.39.39.9.59 1.41.59.51 0 1.02-.2 1.41-.59l7.78-7.78 2.81-2.81c.8-.78.8-2.07 0-2.86zM5.41 20L4 18.59l7.72-7.72 1.47 1.35L5.41 20z\"/>\n",
              "  </svg>\n",
              "      </button>\n",
              "      \n",
              "  <style>\n",
              "    .colab-df-container {\n",
              "      display:flex;\n",
              "      flex-wrap:wrap;\n",
              "      gap: 12px;\n",
              "    }\n",
              "\n",
              "    .colab-df-convert {\n",
              "      background-color: #E8F0FE;\n",
              "      border: none;\n",
              "      border-radius: 50%;\n",
              "      cursor: pointer;\n",
              "      display: none;\n",
              "      fill: #1967D2;\n",
              "      height: 32px;\n",
              "      padding: 0 0 0 0;\n",
              "      width: 32px;\n",
              "    }\n",
              "\n",
              "    .colab-df-convert:hover {\n",
              "      background-color: #E2EBFA;\n",
              "      box-shadow: 0px 1px 2px rgba(60, 64, 67, 0.3), 0px 1px 3px 1px rgba(60, 64, 67, 0.15);\n",
              "      fill: #174EA6;\n",
              "    }\n",
              "\n",
              "    [theme=dark] .colab-df-convert {\n",
              "      background-color: #3B4455;\n",
              "      fill: #D2E3FC;\n",
              "    }\n",
              "\n",
              "    [theme=dark] .colab-df-convert:hover {\n",
              "      background-color: #434B5C;\n",
              "      box-shadow: 0px 1px 3px 1px rgba(0, 0, 0, 0.15);\n",
              "      filter: drop-shadow(0px 1px 2px rgba(0, 0, 0, 0.3));\n",
              "      fill: #FFFFFF;\n",
              "    }\n",
              "  </style>\n",
              "\n",
              "      <script>\n",
              "        const buttonEl =\n",
              "          document.querySelector('#df-fe1c846f-a77d-48f0-a8c3-33ce66ef080d button.colab-df-convert');\n",
              "        buttonEl.style.display =\n",
              "          google.colab.kernel.accessAllowed ? 'block' : 'none';\n",
              "\n",
              "        async function convertToInteractive(key) {\n",
              "          const element = document.querySelector('#df-fe1c846f-a77d-48f0-a8c3-33ce66ef080d');\n",
              "          const dataTable =\n",
              "            await google.colab.kernel.invokeFunction('convertToInteractive',\n",
              "                                                     [key], {});\n",
              "          if (!dataTable) return;\n",
              "\n",
              "          const docLinkHtml = 'Like what you see? Visit the ' +\n",
              "            '<a target=\"_blank\" href=https://colab.research.google.com/notebooks/data_table.ipynb>data table notebook</a>'\n",
              "            + ' to learn more about interactive tables.';\n",
              "          element.innerHTML = '';\n",
              "          dataTable['output_type'] = 'display_data';\n",
              "          await google.colab.output.renderOutput(dataTable, element);\n",
              "          const docLink = document.createElement('div');\n",
              "          docLink.innerHTML = docLinkHtml;\n",
              "          element.appendChild(docLink);\n",
              "        }\n",
              "      </script>\n",
              "    </div>\n",
              "  </div>\n",
              "  "
            ]
          },
          "metadata": {},
          "execution_count": 42
        }
      ],
      "source": [
        "data.corr()"
      ]
    },
    {
      "cell_type": "markdown",
      "metadata": {
        "id": "1JS4SQdymSh7"
      },
      "source": [
        "### Visualizar correlações com \"heatmap\""
      ]
    },
    {
      "cell_type": "code",
      "execution_count": 44,
      "metadata": {
        "colab": {
          "base_uri": "https://localhost:8080/",
          "height": 458
        },
        "id": "eoBU4y-8mSh7",
        "outputId": "faf8ec81-e9e4-415f-e01a-42e5e4bce8e3"
      },
      "outputs": [
        {
          "output_type": "display_data",
          "data": {
            "text/plain": [
              "<Figure size 600x400 with 2 Axes>"
            ],
            "image/png": "[encoded data removed]"
          },
          "metadata": {
            "needs_background": "light"
          }
        }
      ],
      "source": [
        "f, ax = plt.subplots(dpi =100)\n",
        "sns.heatmap(data.corr(), annot=True, cmap='OrRd')\n",
        "plt.show()"
      ]
    },
    {
      "cell_type": "markdown",
      "metadata": {
        "id": "DtGEiRxZmSh7"
      },
      "source": [
        "### Remover coluna \"Sobreviveu\"\n",
        "Aparentemente não tem muita correlação com Idade, e está faltando bastante dados"
      ]
    },
    {
      "cell_type": "code",
      "execution_count": 45,
      "metadata": {
        "colab": {
          "base_uri": "https://localhost:8080/"
        },
        "id": "1omXIqcNmSh7",
        "outputId": "282642c5-34bf-44d5-8cee-b01b2fef2efb"
      },
      "outputs": [
        {
          "output_type": "execute_result",
          "data": {
            "text/plain": [
              "Index(['Idade', 'Embarque', 'Tarifa', 'Nome', 'PaisFilhos', 'Classe', 'Sexo',\n",
              "       'IrmaosConjuge', 'Bilhete'],\n",
              "      dtype='object')"
            ]
          },
          "metadata": {},
          "execution_count": 45
        }
      ],
      "source": [
        "data.drop('Sobreviveu', axis = 1, inplace=True)\n",
        "data.columns"
      ]
    },
    {
      "cell_type": "markdown",
      "metadata": {
        "id": "vyfCyZeimSh8"
      },
      "source": [
        "### Checar dados nulos"
      ]
    },
    {
      "cell_type": "code",
      "execution_count": 46,
      "metadata": {
        "colab": {
          "base_uri": "https://localhost:8080/"
        },
        "id": "TmjSqvedmSh8",
        "outputId": "dfdf37ee-50d7-46d1-9edd-0eca6fd383ec"
      },
      "outputs": [
        {
          "output_type": "execute_result",
          "data": {
            "text/plain": [
              "Idade            263\n",
              "Embarque           0\n",
              "Tarifa             0\n",
              "Nome               0\n",
              "PaisFilhos         0\n",
              "Classe             0\n",
              "Sexo               0\n",
              "IrmaosConjuge      0\n",
              "Bilhete            0\n",
              "dtype: int64"
            ]
          },
          "metadata": {},
          "execution_count": 46
        }
      ],
      "source": [
        "data.isnull().sum()"
      ]
    },
    {
      "cell_type": "markdown",
      "metadata": {
        "id": "CWfBdo9ImSh8"
      },
      "source": [
        "# Engenharia de Recursos I"
      ]
    },
    {
      "cell_type": "markdown",
      "metadata": {
        "id": "xnEyzi_PmSh8"
      },
      "source": [
        "### Criar coluna \"Titulo\" baseando-se na coluna \"Nome\""
      ]
    },
    {
      "cell_type": "code",
      "execution_count": 51,
      "metadata": {
        "id": "ibnnci1ymSh9"
      },
      "outputs": [],
      "source": [
        "data['Titulo'] = data['Nome'].str.extract('([a-zA-Z]+)\\.')"
      ]
    },
    {
      "cell_type": "code",
      "execution_count": 52,
      "metadata": {
        "colab": {
          "base_uri": "https://localhost:8080/"
        },
        "id": "CKPOLn4gmSh9",
        "outputId": "27471907-1513-4681-e492-6dacb94525f7"
      },
      "outputs": [
        {
          "output_type": "execute_result",
          "data": {
            "text/plain": [
              "array(['Mr', 'Mrs', 'Miss', 'Master', 'Don', 'Rev', 'Dr', 'Mme', 'Ms',\n",
              "       'Major', 'Lady', 'Sir', 'Mlle', 'Col', 'Capt', 'Countess',\n",
              "       'Jonkheer', 'Dona'], dtype=object)"
            ]
          },
          "metadata": {},
          "execution_count": 52
        }
      ],
      "source": [
        "data['Titulo'].unique()"
      ]
    },
    {
      "cell_type": "code",
      "execution_count": 57,
      "metadata": {
        "colab": {
          "base_uri": "https://localhost:8080/",
          "height": 238
        },
        "id": "gMcxnyQXmSh9",
        "outputId": "bfab01fc-109a-40c9-d5e1-344eb0ce3369"
      },
      "outputs": [
        {
          "output_type": "execute_result",
          "data": {
            "text/plain": [
              "Sexo    homem  mulher\n",
              "Titulo               \n",
              "Master     61       0\n",
              "Miss        0     260\n",
              "Mr        757       0\n",
              "Mrs         0     197\n",
              "Outros     25       9"
            ],
            "text/html": [
              "\n",
              "  <div id=\"df-c39a40d7-a635-4fbc-974d-e48e7df01474\">\n",
              "    <div class=\"colab-df-container\">\n",
              "      <div>\n",
              "<style scoped>\n",
              "    .dataframe tbody tr th:only-of-type {\n",
              "        vertical-align: middle;\n",
              "    }\n",
              "\n",
              "    .dataframe tbody tr th {\n",
              "        vertical-align: top;\n",
              "    }\n",
              "\n",
              "    .dataframe thead th {\n",
              "        text-align: right;\n",
              "    }\n",
              "</style>\n",
              "<table border=\"1\" class=\"dataframe\">\n",
              "  <thead>\n",
              "    <tr style=\"text-align: right;\">\n",
              "      <th>Sexo</th>\n",
              "      <th>homem</th>\n",
              "      <th>mulher</th>\n",
              "    </tr>\n",
              "    <tr>\n",
              "      <th>Titulo</th>\n",
              "      <th></th>\n",
              "      <th></th>\n",
              "    </tr>\n",
              "  </thead>\n",
              "  <tbody>\n",
              "    <tr>\n",
              "      <th>Master</th>\n",
              "      <td>61</td>\n",
              "      <td>0</td>\n",
              "    </tr>\n",
              "    <tr>\n",
              "      <th>Miss</th>\n",
              "      <td>0</td>\n",
              "      <td>260</td>\n",
              "    </tr>\n",
              "    <tr>\n",
              "      <th>Mr</th>\n",
              "      <td>757</td>\n",
              "      <td>0</td>\n",
              "    </tr>\n",
              "    <tr>\n",
              "      <th>Mrs</th>\n",
              "      <td>0</td>\n",
              "      <td>197</td>\n",
              "    </tr>\n",
              "    <tr>\n",
              "      <th>Outros</th>\n",
              "      <td>25</td>\n",
              "      <td>9</td>\n",
              "    </tr>\n",
              "  </tbody>\n",
              "</table>\n",
              "</div>\n",
              "      <button class=\"colab-df-convert\" onclick=\"convertToInteractive('df-c39a40d7-a635-4fbc-974d-e48e7df01474')\"\n",
              "              title=\"Convert this dataframe to an interactive table.\"\n",
              "              style=\"display:none;\">\n",
              "        \n",
              "  <svg xmlns=\"http://www.w3.org/2000/svg\" height=\"24px\"viewBox=\"0 0 24 24\"\n",
              "       width=\"24px\">\n",
              "    <path d=\"M0 0h24v24H0V0z\" fill=\"none\"/>\n",
              "    <path d=\"M18.56 5.44l.94 2.06.94-2.06 2.06-.94-2.06-.94-.94-2.06-.94 2.06-2.06.94zm-11 1L8.5 8.5l.94-2.06 2.06-.94-2.06-.94L8.5 2.5l-.94 2.06-2.06.94zm10 10l.94 2.06.94-2.06 2.06-.94-2.06-.94-.94-2.06-.94 2.06-2.06.94z\"/><path d=\"M17.41 7.96l-1.37-1.37c-.4-.4-.92-.59-1.43-.59-.52 0-1.04.2-1.43.59L10.3 9.45l-7.72 7.72c-.78.78-.78 2.05 0 2.83L4 21.41c.39.39.9.59 1.41.59.51 0 1.02-.2 1.41-.59l7.78-7.78 2.81-2.81c.8-.78.8-2.07 0-2.86zM5.41 20L4 18.59l7.72-7.72 1.47 1.35L5.41 20z\"/>\n",
              "  </svg>\n",
              "      </button>\n",
              "      \n",
              "  <style>\n",
              "    .colab-df-container {\n",
              "      display:flex;\n",
              "      flex-wrap:wrap;\n",
              "      gap: 12px;\n",
              "    }\n",
              "\n",
              "    .colab-df-convert {\n",
              "      background-color: #E8F0FE;\n",
              "      border: none;\n",
              "      border-radius: 50%;\n",
              "      cursor: pointer;\n",
              "      display: none;\n",
              "      fill: #1967D2;\n",
              "      height: 32px;\n",
              "      padding: 0 0 0 0;\n",
              "      width: 32px;\n",
              "    }\n",
              "\n",
              "    .colab-df-convert:hover {\n",
              "      background-color: #E2EBFA;\n",
              "      box-shadow: 0px 1px 2px rgba(60, 64, 67, 0.3), 0px 1px 3px 1px rgba(60, 64, 67, 0.15);\n",
              "      fill: #174EA6;\n",
              "    }\n",
              "\n",
              "    [theme=dark] .colab-df-convert {\n",
              "      background-color: #3B4455;\n",
              "      fill: #D2E3FC;\n",
              "    }\n",
              "\n",
              "    [theme=dark] .colab-df-convert:hover {\n",
              "      background-color: #434B5C;\n",
              "      box-shadow: 0px 1px 3px 1px rgba(0, 0, 0, 0.15);\n",
              "      filter: drop-shadow(0px 1px 2px rgba(0, 0, 0, 0.3));\n",
              "      fill: #FFFFFF;\n",
              "    }\n",
              "  </style>\n",
              "\n",
              "      <script>\n",
              "        const buttonEl =\n",
              "          document.querySelector('#df-c39a40d7-a635-4fbc-974d-e48e7df01474 button.colab-df-convert');\n",
              "        buttonEl.style.display =\n",
              "          google.colab.kernel.accessAllowed ? 'block' : 'none';\n",
              "\n",
              "        async function convertToInteractive(key) {\n",
              "          const element = document.querySelector('#df-c39a40d7-a635-4fbc-974d-e48e7df01474');\n",
              "          const dataTable =\n",
              "            await google.colab.kernel.invokeFunction('convertToInteractive',\n",
              "                                                     [key], {});\n",
              "          if (!dataTable) return;\n",
              "\n",
              "          const docLinkHtml = 'Like what you see? Visit the ' +\n",
              "            '<a target=\"_blank\" href=https://colab.research.google.com/notebooks/data_table.ipynb>data table notebook</a>'\n",
              "            + ' to learn more about interactive tables.';\n",
              "          element.innerHTML = '';\n",
              "          dataTable['output_type'] = 'display_data';\n",
              "          await google.colab.output.renderOutput(dataTable, element);\n",
              "          const docLink = document.createElement('div');\n",
              "          docLink.innerHTML = docLinkHtml;\n",
              "          element.appendChild(docLink);\n",
              "        }\n",
              "      </script>\n",
              "    </div>\n",
              "  </div>\n",
              "  "
            ]
          },
          "metadata": {},
          "execution_count": 57
        }
      ],
      "source": [
        "pd.crosstab(data['Titulo'], data['Sexo'])"
      ]
    },
    {
      "cell_type": "code",
      "execution_count": 54,
      "metadata": {
        "colab": {
          "base_uri": "https://localhost:8080/"
        },
        "id": "wZQ5LyzWmSh9",
        "outputId": "114b5638-7ac0-4429-b8b4-ab3659e575fa"
      },
      "outputs": [
        {
          "output_type": "execute_result",
          "data": {
            "text/plain": [
              "['Miss', 'Master', 'Mr', 'Mrs']"
            ]
          },
          "metadata": {},
          "execution_count": 54
        }
      ],
      "source": [
        "['Miss', 'Master', 'Mr', 'Mrs']"
      ]
    },
    {
      "cell_type": "code",
      "source": [
        "data['Titulo'] = data['Titulo'].apply(lambda x : 'Outros' if x not in ['Miss', 'Master', 'Mr', 'Mrs'] else x )"
      ],
      "metadata": {
        "id": "xFptYo06vP47"
      },
      "execution_count": 56,
      "outputs": []
    },
    {
      "cell_type": "markdown",
      "metadata": {
        "id": "D5EH28SnmSh9"
      },
      "source": [
        "### Traduzir \"Titulos\""
      ]
    },
    {
      "cell_type": "code",
      "execution_count": 58,
      "metadata": {
        "id": "k0ExmigRmSh-"
      },
      "outputs": [],
      "source": [
        "titulos_traduzidos = {\n",
        "    'Master': 'Menino',\n",
        "    'Miss': 'Solteira',\n",
        "    'Mr': 'HomemAdulto',\n",
        "    'Mrs': 'Casada'\n",
        "}"
      ]
    },
    {
      "cell_type": "code",
      "execution_count": 60,
      "metadata": {
        "id": "VVoclkBamSh-"
      },
      "outputs": [],
      "source": [
        "data['Titulo'] = data['Titulo'].map(titulos_traduzidos)"
      ]
    },
    {
      "cell_type": "code",
      "execution_count": null,
      "metadata": {
        "id": "LoDs6WqbmSh-"
      },
      "outputs": [],
      "source": []
    },
    {
      "cell_type": "markdown",
      "metadata": {
        "id": "xtH6WlHWmSh-"
      },
      "source": [
        "### Averiguar informações do DataFrame"
      ]
    },
    {
      "cell_type": "code",
      "execution_count": 61,
      "metadata": {
        "colab": {
          "base_uri": "https://localhost:8080/"
        },
        "id": "9TmjG-h_mSh-",
        "outputId": "c3fc384d-f1b2-4b3e-f7d1-56bb4a27e467"
      },
      "outputs": [
        {
          "output_type": "stream",
          "name": "stdout",
          "text": [
            "<class 'pandas.core.frame.DataFrame'>\n",
            "Int64Index: 1309 entries, 1 to 1309\n",
            "Data columns (total 10 columns):\n",
            " #   Column         Non-Null Count  Dtype  \n",
            "---  ------         --------------  -----  \n",
            " 0   Idade          1046 non-null   float64\n",
            " 1   Embarque       1309 non-null   object \n",
            " 2   Tarifa         1309 non-null   float64\n",
            " 3   Nome           1309 non-null   object \n",
            " 4   PaisFilhos     1309 non-null   int64  \n",
            " 5   Classe         1309 non-null   int64  \n",
            " 6   Sexo           1309 non-null   object \n",
            " 7   IrmaosConjuge  1309 non-null   int64  \n",
            " 8   Bilhete        1309 non-null   object \n",
            " 9   Titulo         1275 non-null   object \n",
            "dtypes: float64(2), int64(3), object(5)\n",
            "memory usage: 112.5+ KB\n"
          ]
        }
      ],
      "source": [
        "data.info()"
      ]
    },
    {
      "cell_type": "markdown",
      "metadata": {
        "id": "22Up6sK5mSh-"
      },
      "source": [
        "### Remover \"Bilhete\" e \"Nome\""
      ]
    },
    {
      "cell_type": "code",
      "execution_count": 64,
      "metadata": {
        "id": "gOFiYb7zmSh_"
      },
      "outputs": [],
      "source": [
        "data.drop(['Bilhete','Nome'], axis=1, inplace=True)"
      ]
    },
    {
      "cell_type": "code",
      "execution_count": 66,
      "metadata": {
        "colab": {
          "base_uri": "https://localhost:8080/",
          "height": 238
        },
        "id": "men1C8ysmSh_",
        "outputId": "7cc60c1b-da57-4d9d-a0ce-ebe714339063"
      },
      "outputs": [
        {
          "output_type": "execute_result",
          "data": {
            "text/plain": [
              "             Idade Embarque   Tarifa  PaisFilhos  Classe    Sexo  \\\n",
              "PassengerId                                                        \n",
              "1             22.0        S   7.2500           0       3   homem   \n",
              "2             38.0        C  71.2833           0       1  mulher   \n",
              "3             26.0        S   7.9250           0       3  mulher   \n",
              "4             35.0        S  53.1000           0       1  mulher   \n",
              "5             35.0        S   8.0500           0       3   homem   \n",
              "\n",
              "             IrmaosConjuge       Titulo  \n",
              "PassengerId                              \n",
              "1                        1  HomemAdulto  \n",
              "2                        1       Casada  \n",
              "3                        0     Solteira  \n",
              "4                        1       Casada  \n",
              "5                        0  HomemAdulto  "
            ],
            "text/html": [
              "\n",
              "  <div id=\"df-762fc539-f1e7-4623-92dd-ee633081d89e\">\n",
              "    <div class=\"colab-df-container\">\n",
              "      <div>\n",
              "<style scoped>\n",
              "    .dataframe tbody tr th:only-of-type {\n",
              "        vertical-align: middle;\n",
              "    }\n",
              "\n",
              "    .dataframe tbody tr th {\n",
              "        vertical-align: top;\n",
              "    }\n",
              "\n",
              "    .dataframe thead th {\n",
              "        text-align: right;\n",
              "    }\n",
              "</style>\n",
              "<table border=\"1\" class=\"dataframe\">\n",
              "  <thead>\n",
              "    <tr style=\"text-align: right;\">\n",
              "      <th></th>\n",
              "      <th>Idade</th>\n",
              "      <th>Embarque</th>\n",
              "      <th>Tarifa</th>\n",
              "      <th>PaisFilhos</th>\n",
              "      <th>Classe</th>\n",
              "      <th>Sexo</th>\n",
              "      <th>IrmaosConjuge</th>\n",
              "      <th>Titulo</th>\n",
              "    </tr>\n",
              "    <tr>\n",
              "      <th>PassengerId</th>\n",
              "      <th></th>\n",
              "      <th></th>\n",
              "      <th></th>\n",
              "      <th></th>\n",
              "      <th></th>\n",
              "      <th></th>\n",
              "      <th></th>\n",
              "      <th></th>\n",
              "    </tr>\n",
              "  </thead>\n",
              "  <tbody>\n",
              "    <tr>\n",
              "      <th>1</th>\n",
              "      <td>22.0</td>\n",
              "      <td>S</td>\n",
              "      <td>7.2500</td>\n",
              "      <td>0</td>\n",
              "      <td>3</td>\n",
              "      <td>homem</td>\n",
              "      <td>1</td>\n",
              "      <td>HomemAdulto</td>\n",
              "    </tr>\n",
              "    <tr>\n",
              "      <th>2</th>\n",
              "      <td>38.0</td>\n",
              "      <td>C</td>\n",
              "      <td>71.2833</td>\n",
              "      <td>0</td>\n",
              "      <td>1</td>\n",
              "      <td>mulher</td>\n",
              "      <td>1</td>\n",
              "      <td>Casada</td>\n",
              "    </tr>\n",
              "    <tr>\n",
              "      <th>3</th>\n",
              "      <td>26.0</td>\n",
              "      <td>S</td>\n",
              "      <td>7.9250</td>\n",
              "      <td>0</td>\n",
              "      <td>3</td>\n",
              "      <td>mulher</td>\n",
              "      <td>0</td>\n",
              "      <td>Solteira</td>\n",
              "    </tr>\n",
              "    <tr>\n",
              "      <th>4</th>\n",
              "      <td>35.0</td>\n",
              "      <td>S</td>\n",
              "      <td>53.1000</td>\n",
              "      <td>0</td>\n",
              "      <td>1</td>\n",
              "      <td>mulher</td>\n",
              "      <td>1</td>\n",
              "      <td>Casada</td>\n",
              "    </tr>\n",
              "    <tr>\n",
              "      <th>5</th>\n",
              "      <td>35.0</td>\n",
              "      <td>S</td>\n",
              "      <td>8.0500</td>\n",
              "      <td>0</td>\n",
              "      <td>3</td>\n",
              "      <td>homem</td>\n",
              "      <td>0</td>\n",
              "      <td>HomemAdulto</td>\n",
              "    </tr>\n",
              "  </tbody>\n",
              "</table>\n",
              "</div>\n",
              "      <button class=\"colab-df-convert\" onclick=\"convertToInteractive('df-762fc539-f1e7-4623-92dd-ee633081d89e')\"\n",
              "              title=\"Convert this dataframe to an interactive table.\"\n",
              "              style=\"display:none;\">\n",
              "        \n",
              "  <svg xmlns=\"http://www.w3.org/2000/svg\" height=\"24px\"viewBox=\"0 0 24 24\"\n",
              "       width=\"24px\">\n",
              "    <path d=\"M0 0h24v24H0V0z\" fill=\"none\"/>\n",
              "    <path d=\"M18.56 5.44l.94 2.06.94-2.06 2.06-.94-2.06-.94-.94-2.06-.94 2.06-2.06.94zm-11 1L8.5 8.5l.94-2.06 2.06-.94-2.06-.94L8.5 2.5l-.94 2.06-2.06.94zm10 10l.94 2.06.94-2.06 2.06-.94-2.06-.94-.94-2.06-.94 2.06-2.06.94z\"/><path d=\"M17.41 7.96l-1.37-1.37c-.4-.4-.92-.59-1.43-.59-.52 0-1.04.2-1.43.59L10.3 9.45l-7.72 7.72c-.78.78-.78 2.05 0 2.83L4 21.41c.39.39.9.59 1.41.59.51 0 1.02-.2 1.41-.59l7.78-7.78 2.81-2.81c.8-.78.8-2.07 0-2.86zM5.41 20L4 18.59l7.72-7.72 1.47 1.35L5.41 20z\"/>\n",
              "  </svg>\n",
              "      </button>\n",
              "      \n",
              "  <style>\n",
              "    .colab-df-container {\n",
              "      display:flex;\n",
              "      flex-wrap:wrap;\n",
              "      gap: 12px;\n",
              "    }\n",
              "\n",
              "    .colab-df-convert {\n",
              "      background-color: #E8F0FE;\n",
              "      border: none;\n",
              "      border-radius: 50%;\n",
              "      cursor: pointer;\n",
              "      display: none;\n",
              "      fill: #1967D2;\n",
              "      height: 32px;\n",
              "      padding: 0 0 0 0;\n",
              "      width: 32px;\n",
              "    }\n",
              "\n",
              "    .colab-df-convert:hover {\n",
              "      background-color: #E2EBFA;\n",
              "      box-shadow: 0px 1px 2px rgba(60, 64, 67, 0.3), 0px 1px 3px 1px rgba(60, 64, 67, 0.15);\n",
              "      fill: #174EA6;\n",
              "    }\n",
              "\n",
              "    [theme=dark] .colab-df-convert {\n",
              "      background-color: #3B4455;\n",
              "      fill: #D2E3FC;\n",
              "    }\n",
              "\n",
              "    [theme=dark] .colab-df-convert:hover {\n",
              "      background-color: #434B5C;\n",
              "      box-shadow: 0px 1px 3px 1px rgba(0, 0, 0, 0.15);\n",
              "      filter: drop-shadow(0px 1px 2px rgba(0, 0, 0, 0.3));\n",
              "      fill: #FFFFFF;\n",
              "    }\n",
              "  </style>\n",
              "\n",
              "      <script>\n",
              "        const buttonEl =\n",
              "          document.querySelector('#df-762fc539-f1e7-4623-92dd-ee633081d89e button.colab-df-convert');\n",
              "        buttonEl.style.display =\n",
              "          google.colab.kernel.accessAllowed ? 'block' : 'none';\n",
              "\n",
              "        async function convertToInteractive(key) {\n",
              "          const element = document.querySelector('#df-762fc539-f1e7-4623-92dd-ee633081d89e');\n",
              "          const dataTable =\n",
              "            await google.colab.kernel.invokeFunction('convertToInteractive',\n",
              "                                                     [key], {});\n",
              "          if (!dataTable) return;\n",
              "\n",
              "          const docLinkHtml = 'Like what you see? Visit the ' +\n",
              "            '<a target=\"_blank\" href=https://colab.research.google.com/notebooks/data_table.ipynb>data table notebook</a>'\n",
              "            + ' to learn more about interactive tables.';\n",
              "          element.innerHTML = '';\n",
              "          dataTable['output_type'] = 'display_data';\n",
              "          await google.colab.output.renderOutput(dataTable, element);\n",
              "          const docLink = document.createElement('div');\n",
              "          docLink.innerHTML = docLinkHtml;\n",
              "          element.appendChild(docLink);\n",
              "        }\n",
              "      </script>\n",
              "    </div>\n",
              "  </div>\n",
              "  "
            ]
          },
          "metadata": {},
          "execution_count": 66
        }
      ],
      "source": [
        "data.head()"
      ]
    },
    {
      "cell_type": "markdown",
      "metadata": {
        "id": "rUyLABfimSh_"
      },
      "source": [
        "# Engenharia de Recursos II"
      ]
    },
    {
      "cell_type": "markdown",
      "metadata": {
        "id": "Bg-4A_WqmSh_"
      },
      "source": [
        "### Estudar possibilidade de identificar \"meninas\" similar aos \"meninos\"\n",
        "Através da combinação: \"solteira\" e está com \"pais\""
      ]
    },
    {
      "cell_type": "code",
      "execution_count": 71,
      "metadata": {
        "colab": {
          "base_uri": "https://localhost:8080/",
          "height": 238
        },
        "id": "55kB9sSCmSiA",
        "outputId": "5f398c9d-1856-483f-ab93-79858f72f2b7"
      },
      "outputs": [
        {
          "output_type": "execute_result",
          "data": {
            "text/plain": [
              "             Idade Embarque   Tarifa  PaisFilhos  Classe    Sexo  \\\n",
              "PassengerId                                                        \n",
              "11             4.0        S  16.7000           1       3  mulher   \n",
              "25             8.0        S  21.0750           1       3  mulher   \n",
              "44             3.0        C  41.5792           2       2  mulher   \n",
              "59             5.0        S  27.7500           2       2  mulher   \n",
              "69            17.0        S   7.9250           2       3  mulher   \n",
              "\n",
              "             IrmaosConjuge    Titulo  \n",
              "PassengerId                           \n",
              "11                       1  Solteira  \n",
              "25                       3  Solteira  \n",
              "44                       1  Solteira  \n",
              "59                       1  Solteira  \n",
              "69                       4  Solteira  "
            ],
            "text/html": [
              "\n",
              "  <div id=\"df-bdea30f4-2b5b-4b5d-8f6d-9af2a20ced9c\">\n",
              "    <div class=\"colab-df-container\">\n",
              "      <div>\n",
              "<style scoped>\n",
              "    .dataframe tbody tr th:only-of-type {\n",
              "        vertical-align: middle;\n",
              "    }\n",
              "\n",
              "    .dataframe tbody tr th {\n",
              "        vertical-align: top;\n",
              "    }\n",
              "\n",
              "    .dataframe thead th {\n",
              "        text-align: right;\n",
              "    }\n",
              "</style>\n",
              "<table border=\"1\" class=\"dataframe\">\n",
              "  <thead>\n",
              "    <tr style=\"text-align: right;\">\n",
              "      <th></th>\n",
              "      <th>Idade</th>\n",
              "      <th>Embarque</th>\n",
              "      <th>Tarifa</th>\n",
              "      <th>PaisFilhos</th>\n",
              "      <th>Classe</th>\n",
              "      <th>Sexo</th>\n",
              "      <th>IrmaosConjuge</th>\n",
              "      <th>Titulo</th>\n",
              "    </tr>\n",
              "    <tr>\n",
              "      <th>PassengerId</th>\n",
              "      <th></th>\n",
              "      <th></th>\n",
              "      <th></th>\n",
              "      <th></th>\n",
              "      <th></th>\n",
              "      <th></th>\n",
              "      <th></th>\n",
              "      <th></th>\n",
              "    </tr>\n",
              "  </thead>\n",
              "  <tbody>\n",
              "    <tr>\n",
              "      <th>11</th>\n",
              "      <td>4.0</td>\n",
              "      <td>S</td>\n",
              "      <td>16.7000</td>\n",
              "      <td>1</td>\n",
              "      <td>3</td>\n",
              "      <td>mulher</td>\n",
              "      <td>1</td>\n",
              "      <td>Solteira</td>\n",
              "    </tr>\n",
              "    <tr>\n",
              "      <th>25</th>\n",
              "      <td>8.0</td>\n",
              "      <td>S</td>\n",
              "      <td>21.0750</td>\n",
              "      <td>1</td>\n",
              "      <td>3</td>\n",
              "      <td>mulher</td>\n",
              "      <td>3</td>\n",
              "      <td>Solteira</td>\n",
              "    </tr>\n",
              "    <tr>\n",
              "      <th>44</th>\n",
              "      <td>3.0</td>\n",
              "      <td>C</td>\n",
              "      <td>41.5792</td>\n",
              "      <td>2</td>\n",
              "      <td>2</td>\n",
              "      <td>mulher</td>\n",
              "      <td>1</td>\n",
              "      <td>Solteira</td>\n",
              "    </tr>\n",
              "    <tr>\n",
              "      <th>59</th>\n",
              "      <td>5.0</td>\n",
              "      <td>S</td>\n",
              "      <td>27.7500</td>\n",
              "      <td>2</td>\n",
              "      <td>2</td>\n",
              "      <td>mulher</td>\n",
              "      <td>1</td>\n",
              "      <td>Solteira</td>\n",
              "    </tr>\n",
              "    <tr>\n",
              "      <th>69</th>\n",
              "      <td>17.0</td>\n",
              "      <td>S</td>\n",
              "      <td>7.9250</td>\n",
              "      <td>2</td>\n",
              "      <td>3</td>\n",
              "      <td>mulher</td>\n",
              "      <td>4</td>\n",
              "      <td>Solteira</td>\n",
              "    </tr>\n",
              "  </tbody>\n",
              "</table>\n",
              "</div>\n",
              "      <button class=\"colab-df-convert\" onclick=\"convertToInteractive('df-bdea30f4-2b5b-4b5d-8f6d-9af2a20ced9c')\"\n",
              "              title=\"Convert this dataframe to an interactive table.\"\n",
              "              style=\"display:none;\">\n",
              "        \n",
              "  <svg xmlns=\"http://www.w3.org/2000/svg\" height=\"24px\"viewBox=\"0 0 24 24\"\n",
              "       width=\"24px\">\n",
              "    <path d=\"M0 0h24v24H0V0z\" fill=\"none\"/>\n",
              "    <path d=\"M18.56 5.44l.94 2.06.94-2.06 2.06-.94-2.06-.94-.94-2.06-.94 2.06-2.06.94zm-11 1L8.5 8.5l.94-2.06 2.06-.94-2.06-.94L8.5 2.5l-.94 2.06-2.06.94zm10 10l.94 2.06.94-2.06 2.06-.94-2.06-.94-.94-2.06-.94 2.06-2.06.94z\"/><path d=\"M17.41 7.96l-1.37-1.37c-.4-.4-.92-.59-1.43-.59-.52 0-1.04.2-1.43.59L10.3 9.45l-7.72 7.72c-.78.78-.78 2.05 0 2.83L4 21.41c.39.39.9.59 1.41.59.51 0 1.02-.2 1.41-.59l7.78-7.78 2.81-2.81c.8-.78.8-2.07 0-2.86zM5.41 20L4 18.59l7.72-7.72 1.47 1.35L5.41 20z\"/>\n",
              "  </svg>\n",
              "      </button>\n",
              "      \n",
              "  <style>\n",
              "    .colab-df-container {\n",
              "      display:flex;\n",
              "      flex-wrap:wrap;\n",
              "      gap: 12px;\n",
              "    }\n",
              "\n",
              "    .colab-df-convert {\n",
              "      background-color: #E8F0FE;\n",
              "      border: none;\n",
              "      border-radius: 50%;\n",
              "      cursor: pointer;\n",
              "      display: none;\n",
              "      fill: #1967D2;\n",
              "      height: 32px;\n",
              "      padding: 0 0 0 0;\n",
              "      width: 32px;\n",
              "    }\n",
              "\n",
              "    .colab-df-convert:hover {\n",
              "      background-color: #E2EBFA;\n",
              "      box-shadow: 0px 1px 2px rgba(60, 64, 67, 0.3), 0px 1px 3px 1px rgba(60, 64, 67, 0.15);\n",
              "      fill: #174EA6;\n",
              "    }\n",
              "\n",
              "    [theme=dark] .colab-df-convert {\n",
              "      background-color: #3B4455;\n",
              "      fill: #D2E3FC;\n",
              "    }\n",
              "\n",
              "    [theme=dark] .colab-df-convert:hover {\n",
              "      background-color: #434B5C;\n",
              "      box-shadow: 0px 1px 3px 1px rgba(0, 0, 0, 0.15);\n",
              "      filter: drop-shadow(0px 1px 2px rgba(0, 0, 0, 0.3));\n",
              "      fill: #FFFFFF;\n",
              "    }\n",
              "  </style>\n",
              "\n",
              "      <script>\n",
              "        const buttonEl =\n",
              "          document.querySelector('#df-bdea30f4-2b5b-4b5d-8f6d-9af2a20ced9c button.colab-df-convert');\n",
              "        buttonEl.style.display =\n",
              "          google.colab.kernel.accessAllowed ? 'block' : 'none';\n",
              "\n",
              "        async function convertToInteractive(key) {\n",
              "          const element = document.querySelector('#df-bdea30f4-2b5b-4b5d-8f6d-9af2a20ced9c');\n",
              "          const dataTable =\n",
              "            await google.colab.kernel.invokeFunction('convertToInteractive',\n",
              "                                                     [key], {});\n",
              "          if (!dataTable) return;\n",
              "\n",
              "          const docLinkHtml = 'Like what you see? Visit the ' +\n",
              "            '<a target=\"_blank\" href=https://colab.research.google.com/notebooks/data_table.ipynb>data table notebook</a>'\n",
              "            + ' to learn more about interactive tables.';\n",
              "          element.innerHTML = '';\n",
              "          dataTable['output_type'] = 'display_data';\n",
              "          await google.colab.output.renderOutput(dataTable, element);\n",
              "          const docLink = document.createElement('div');\n",
              "          docLink.innerHTML = docLinkHtml;\n",
              "          element.appendChild(docLink);\n",
              "        }\n",
              "      </script>\n",
              "    </div>\n",
              "  </div>\n",
              "  "
            ]
          },
          "metadata": {},
          "execution_count": 71
        }
      ],
      "source": [
        "solteiras_com_pais = data.loc[(data['Titulo']=='Solteira') & (data['PaisFilhos']>=1)]\n",
        "solteiras_com_pais.head()"
      ]
    },
    {
      "cell_type": "markdown",
      "metadata": {
        "id": "R9Q6SNuKmSiA"
      },
      "source": [
        "### idade média de \"meninas solteiras acompanhadas dos pais\""
      ]
    },
    {
      "cell_type": "code",
      "execution_count": 72,
      "metadata": {
        "colab": {
          "base_uri": "https://localhost:8080/"
        },
        "id": "AKYpWBrhmSiA",
        "outputId": "2452ec6e-ffc1-4f4c-a9e6-5e17cc720f0e"
      },
      "outputs": [
        {
          "output_type": "execute_result",
          "data": {
            "text/plain": [
              "12.178815789473685"
            ]
          },
          "metadata": {},
          "execution_count": 72
        }
      ],
      "source": [
        "solteiras_com_pais['Idade'].mean()"
      ]
    },
    {
      "cell_type": "markdown",
      "metadata": {
        "id": "MsA7L_VRmSiA"
      },
      "source": [
        "### verificar distribuição da idade"
      ]
    },
    {
      "cell_type": "code",
      "execution_count": 73,
      "metadata": {
        "colab": {
          "base_uri": "https://localhost:8080/",
          "height": 265
        },
        "id": "2p9eqFECmSiA",
        "outputId": "078152b6-cd92-4884-a1a1-660f4461c11c"
      },
      "outputs": [
        {
          "output_type": "display_data",
          "data": {
            "text/plain": [
              "<Figure size 432x288 with 1 Axes>"
            ],
            "image/png": "[encoded data removed]"
          },
          "metadata": {
            "needs_background": "light"
          }
        }
      ],
      "source": [
        "plt.hist(solteiras_com_pais['Idade'], bins = 15)\n",
        "plt.show()"
      ]
    },
    {
      "cell_type": "markdown",
      "metadata": {
        "id": "FKT2s68bmSiB"
      },
      "source": [
        "### Média de mulheres \"solteiras\""
      ]
    },
    {
      "cell_type": "code",
      "execution_count": 74,
      "metadata": {
        "colab": {
          "base_uri": "https://localhost:8080/"
        },
        "id": "zgS9CEHXmSiB",
        "outputId": "af32c308-3905-4f82-e606-7b9004434ce1"
      },
      "outputs": [
        {
          "output_type": "execute_result",
          "data": {
            "text/plain": [
              "21.774238095238097"
            ]
          },
          "metadata": {},
          "execution_count": 74
        }
      ],
      "source": [
        "data.loc[data['Titulo']=='Solteira']['Idade'].mean()"
      ]
    },
    {
      "cell_type": "markdown",
      "metadata": {
        "id": "TGXrHZvumSiB"
      },
      "source": [
        "### Distribuição das idades de mulheres \"solteiras\""
      ]
    },
    {
      "cell_type": "code",
      "execution_count": 75,
      "metadata": {
        "colab": {
          "base_uri": "https://localhost:8080/",
          "height": 265
        },
        "id": "PwslzB-umSiB",
        "outputId": "8aeb5eff-24b5-42dd-e148-fec1cc0155da"
      },
      "outputs": [
        {
          "output_type": "display_data",
          "data": {
            "text/plain": [
              "<Figure size 432x288 with 1 Axes>"
            ],
            "image/png": "[encoded data removed]"
          },
          "metadata": {
            "needs_background": "light"
          }
        }
      ],
      "source": [
        "plt.hist(data.loc[data['Titulo']=='Solteira']['Idade'], bins = 15)\n",
        "plt.show()"
      ]
    },
    {
      "cell_type": "markdown",
      "metadata": {
        "id": "lReo4lSbmSiB"
      },
      "source": [
        "### Média de idade de mulheres \"casadas\""
      ]
    },
    {
      "cell_type": "code",
      "execution_count": 76,
      "metadata": {
        "colab": {
          "base_uri": "https://localhost:8080/"
        },
        "id": "4fGoSEjFmSiC",
        "outputId": "14a284aa-20c7-49cb-f5fb-b177cc80d06a"
      },
      "outputs": [
        {
          "output_type": "execute_result",
          "data": {
            "text/plain": [
              "36.99411764705882"
            ]
          },
          "metadata": {},
          "execution_count": 76
        }
      ],
      "source": [
        "data.loc[data['Titulo']=='Casada']['Idade'].mean()"
      ]
    },
    {
      "cell_type": "markdown",
      "metadata": {
        "id": "GK4C9mZTmSiC"
      },
      "source": [
        "### Distribuição das idades de mulheres \"casadas\""
      ]
    },
    {
      "cell_type": "code",
      "execution_count": 77,
      "metadata": {
        "colab": {
          "base_uri": "https://localhost:8080/",
          "height": 265
        },
        "id": "fyExqVfsmSiC",
        "outputId": "7db1af62-a656-4dc0-a28b-1e53a65a0878"
      },
      "outputs": [
        {
          "output_type": "display_data",
          "data": {
            "text/plain": [
              "<Figure size 432x288 with 1 Axes>"
            ],
            "image/png": "[encoded data removed]"
          },
          "metadata": {
            "needs_background": "light"
          }
        }
      ],
      "source": [
        "plt.hist(data.loc[data['Titulo']=='Casada']['Idade'], bins = 15)\n",
        "plt.show()"
      ]
    },
    {
      "cell_type": "markdown",
      "metadata": {
        "id": "RY4TDJ2smSiC"
      },
      "source": [
        "### Adicionar coluna \"solteira com pais\""
      ]
    },
    {
      "cell_type": "code",
      "execution_count": 78,
      "metadata": {
        "colab": {
          "base_uri": "https://localhost:8080/"
        },
        "id": "tHfcR1hnmSiD",
        "outputId": "2701aacd-b480-4f76-d92b-281fc16459f1"
      },
      "outputs": [
        {
          "output_type": "execute_result",
          "data": {
            "text/plain": [
              "Int64Index([  11,   25,   44,   59,   69,   72,   89,  120,  129,  137,  148,\n",
              "             173,  181,  185,  206,  230,  234,  238,  298,  312,  319,  330,\n",
              "             342,  357,  375,  382,  410,  418,  420,  436,  437,  447,  449,\n",
              "             470,  480,  486,  531,  536,  540,  541,  542,  543,  581,  586,\n",
              "             594,  616,  619,  635,  643,  645,  652,  690,  692,  703,  721,\n",
              "             743,  751,  793,  814,  836,  853,  854,  864,  889,  918,  944,\n",
              "             945, 1009, 1017, 1032, 1067, 1078, 1080, 1095, 1106, 1130, 1142,\n",
              "            1155, 1175, 1176, 1188, 1218, 1246, 1277, 1294, 1301],\n",
              "           dtype='int64', name='PassengerId')"
            ]
          },
          "metadata": {},
          "execution_count": 78
        }
      ],
      "source": [
        "solteiras_com_pais.index"
      ]
    },
    {
      "cell_type": "code",
      "execution_count": 79,
      "metadata": {
        "id": "oP7pkIKimSiD"
      },
      "outputs": [],
      "source": [
        "data['solteira_com_pais'] = 0"
      ]
    },
    {
      "cell_type": "code",
      "execution_count": 80,
      "metadata": {
        "id": "B1EXSkLFmSiD"
      },
      "outputs": [],
      "source": [
        "for idx, _ in data.iterrows():\n",
        "  if idx in solteiras_com_pais.index:\n",
        "    data['solteira_com_pais'].at[idx] = 1 "
      ]
    },
    {
      "cell_type": "code",
      "execution_count": 86,
      "metadata": {
        "colab": {
          "base_uri": "https://localhost:8080/"
        },
        "id": "6pZzjihqmSiD",
        "outputId": "879581c6-a303-44c0-b02c-edfca4c7e2f6"
      },
      "outputs": [
        {
          "output_type": "execute_result",
          "data": {
            "text/plain": [
              "12.178815789473685"
            ]
          },
          "metadata": {},
          "execution_count": 86
        }
      ],
      "source": [
        "data.loc[data['solteira_com_pais']==1]['Idade'].mean() #  solteira com pais"
      ]
    },
    {
      "cell_type": "code",
      "execution_count": 87,
      "metadata": {
        "colab": {
          "base_uri": "https://localhost:8080/"
        },
        "id": "3jA0-ioRmSiD",
        "outputId": "a898e96f-3b19-40d7-c16e-1612f7036353"
      },
      "outputs": [
        {
          "output_type": "execute_result",
          "data": {
            "text/plain": [
              "31.26812371134021"
            ]
          },
          "metadata": {},
          "execution_count": 87
        }
      ],
      "source": [
        "data.loc[data['solteira_com_pais']==0]['Idade'].mean() # solteira sem pais"
      ]
    },
    {
      "cell_type": "markdown",
      "metadata": {
        "id": "5_nhMdHkmSiE"
      },
      "source": [
        "### Transformar recursos categóricos em \"dummies\""
      ]
    },
    {
      "cell_type": "code",
      "source": [
        "data['Sexo'] = data['Sexo'].map({'homem':0, 'mulher':1})"
      ],
      "metadata": {
        "id": "Xci_X3kM14rT"
      },
      "execution_count": 89,
      "outputs": []
    },
    {
      "cell_type": "code",
      "source": [
        "data.head()"
      ],
      "metadata": {
        "colab": {
          "base_uri": "https://localhost:8080/",
          "height": 238
        },
        "id": "q7qB-4lb2JYO",
        "outputId": "66c09d0e-f8c0-4134-cc42-16b2f6740587"
      },
      "execution_count": 90,
      "outputs": [
        {
          "output_type": "execute_result",
          "data": {
            "text/plain": [
              "             Idade Embarque   Tarifa  PaisFilhos  Classe  Sexo  IrmaosConjuge  \\\n",
              "PassengerId                                                                     \n",
              "1             22.0        S   7.2500           0       3     0              1   \n",
              "2             38.0        C  71.2833           0       1     1              1   \n",
              "3             26.0        S   7.9250           0       3     1              0   \n",
              "4             35.0        S  53.1000           0       1     1              1   \n",
              "5             35.0        S   8.0500           0       3     0              0   \n",
              "\n",
              "                  Titulo  solteira_com_pais  \n",
              "PassengerId                                  \n",
              "1            HomemAdulto                  0  \n",
              "2                 Casada                  0  \n",
              "3               Solteira                  0  \n",
              "4                 Casada                  0  \n",
              "5            HomemAdulto                  0  "
            ],
            "text/html": [
              "\n",
              "  <div id=\"df-b80fdefb-9879-4276-be42-5fc6e5396a98\">\n",
              "    <div class=\"colab-df-container\">\n",
              "      <div>\n",
              "<style scoped>\n",
              "    .dataframe tbody tr th:only-of-type {\n",
              "        vertical-align: middle;\n",
              "    }\n",
              "\n",
              "    .dataframe tbody tr th {\n",
              "        vertical-align: top;\n",
              "    }\n",
              "\n",
              "    .dataframe thead th {\n",
              "        text-align: right;\n",
              "    }\n",
              "</style>\n",
              "<table border=\"1\" class=\"dataframe\">\n",
              "  <thead>\n",
              "    <tr style=\"text-align: right;\">\n",
              "      <th></th>\n",
              "      <th>Idade</th>\n",
              "      <th>Embarque</th>\n",
              "      <th>Tarifa</th>\n",
              "      <th>PaisFilhos</th>\n",
              "      <th>Classe</th>\n",
              "      <th>Sexo</th>\n",
              "      <th>IrmaosConjuge</th>\n",
              "      <th>Titulo</th>\n",
              "      <th>solteira_com_pais</th>\n",
              "    </tr>\n",
              "    <tr>\n",
              "      <th>PassengerId</th>\n",
              "      <th></th>\n",
              "      <th></th>\n",
              "      <th></th>\n",
              "      <th></th>\n",
              "      <th></th>\n",
              "      <th></th>\n",
              "      <th></th>\n",
              "      <th></th>\n",
              "      <th></th>\n",
              "    </tr>\n",
              "  </thead>\n",
              "  <tbody>\n",
              "    <tr>\n",
              "      <th>1</th>\n",
              "      <td>22.0</td>\n",
              "      <td>S</td>\n",
              "      <td>7.2500</td>\n",
              "      <td>0</td>\n",
              "      <td>3</td>\n",
              "      <td>0</td>\n",
              "      <td>1</td>\n",
              "      <td>HomemAdulto</td>\n",
              "      <td>0</td>\n",
              "    </tr>\n",
              "    <tr>\n",
              "      <th>2</th>\n",
              "      <td>38.0</td>\n",
              "      <td>C</td>\n",
              "      <td>71.2833</td>\n",
              "      <td>0</td>\n",
              "      <td>1</td>\n",
              "      <td>1</td>\n",
              "      <td>1</td>\n",
              "      <td>Casada</td>\n",
              "      <td>0</td>\n",
              "    </tr>\n",
              "    <tr>\n",
              "      <th>3</th>\n",
              "      <td>26.0</td>\n",
              "      <td>S</td>\n",
              "      <td>7.9250</td>\n",
              "      <td>0</td>\n",
              "      <td>3</td>\n",
              "      <td>1</td>\n",
              "      <td>0</td>\n",
              "      <td>Solteira</td>\n",
              "      <td>0</td>\n",
              "    </tr>\n",
              "    <tr>\n",
              "      <th>4</th>\n",
              "      <td>35.0</td>\n",
              "      <td>S</td>\n",
              "      <td>53.1000</td>\n",
              "      <td>0</td>\n",
              "      <td>1</td>\n",
              "      <td>1</td>\n",
              "      <td>1</td>\n",
              "      <td>Casada</td>\n",
              "      <td>0</td>\n",
              "    </tr>\n",
              "    <tr>\n",
              "      <th>5</th>\n",
              "      <td>35.0</td>\n",
              "      <td>S</td>\n",
              "      <td>8.0500</td>\n",
              "      <td>0</td>\n",
              "      <td>3</td>\n",
              "      <td>0</td>\n",
              "      <td>0</td>\n",
              "      <td>HomemAdulto</td>\n",
              "      <td>0</td>\n",
              "    </tr>\n",
              "  </tbody>\n",
              "</table>\n",
              "</div>\n",
              "      <button class=\"colab-df-convert\" onclick=\"convertToInteractive('df-b80fdefb-9879-4276-be42-5fc6e5396a98')\"\n",
              "              title=\"Convert this dataframe to an interactive table.\"\n",
              "              style=\"display:none;\">\n",
              "        \n",
              "  <svg xmlns=\"http://www.w3.org/2000/svg\" height=\"24px\"viewBox=\"0 0 24 24\"\n",
              "       width=\"24px\">\n",
              "    <path d=\"M0 0h24v24H0V0z\" fill=\"none\"/>\n",
              "    <path d=\"M18.56 5.44l.94 2.06.94-2.06 2.06-.94-2.06-.94-.94-2.06-.94 2.06-2.06.94zm-11 1L8.5 8.5l.94-2.06 2.06-.94-2.06-.94L8.5 2.5l-.94 2.06-2.06.94zm10 10l.94 2.06.94-2.06 2.06-.94-2.06-.94-.94-2.06-.94 2.06-2.06.94z\"/><path d=\"M17.41 7.96l-1.37-1.37c-.4-.4-.92-.59-1.43-.59-.52 0-1.04.2-1.43.59L10.3 9.45l-7.72 7.72c-.78.78-.78 2.05 0 2.83L4 21.41c.39.39.9.59 1.41.59.51 0 1.02-.2 1.41-.59l7.78-7.78 2.81-2.81c.8-.78.8-2.07 0-2.86zM5.41 20L4 18.59l7.72-7.72 1.47 1.35L5.41 20z\"/>\n",
              "  </svg>\n",
              "      </button>\n",
              "      \n",
              "  <style>\n",
              "    .colab-df-container {\n",
              "      display:flex;\n",
              "      flex-wrap:wrap;\n",
              "      gap: 12px;\n",
              "    }\n",
              "\n",
              "    .colab-df-convert {\n",
              "      background-color: #E8F0FE;\n",
              "      border: none;\n",
              "      border-radius: 50%;\n",
              "      cursor: pointer;\n",
              "      display: none;\n",
              "      fill: #1967D2;\n",
              "      height: 32px;\n",
              "      padding: 0 0 0 0;\n",
              "      width: 32px;\n",
              "    }\n",
              "\n",
              "    .colab-df-convert:hover {\n",
              "      background-color: #E2EBFA;\n",
              "      box-shadow: 0px 1px 2px rgba(60, 64, 67, 0.3), 0px 1px 3px 1px rgba(60, 64, 67, 0.15);\n",
              "      fill: #174EA6;\n",
              "    }\n",
              "\n",
              "    [theme=dark] .colab-df-convert {\n",
              "      background-color: #3B4455;\n",
              "      fill: #D2E3FC;\n",
              "    }\n",
              "\n",
              "    [theme=dark] .colab-df-convert:hover {\n",
              "      background-color: #434B5C;\n",
              "      box-shadow: 0px 1px 3px 1px rgba(0, 0, 0, 0.15);\n",
              "      filter: drop-shadow(0px 1px 2px rgba(0, 0, 0, 0.3));\n",
              "      fill: #FFFFFF;\n",
              "    }\n",
              "  </style>\n",
              "\n",
              "      <script>\n",
              "        const buttonEl =\n",
              "          document.querySelector('#df-b80fdefb-9879-4276-be42-5fc6e5396a98 button.colab-df-convert');\n",
              "        buttonEl.style.display =\n",
              "          google.colab.kernel.accessAllowed ? 'block' : 'none';\n",
              "\n",
              "        async function convertToInteractive(key) {\n",
              "          const element = document.querySelector('#df-b80fdefb-9879-4276-be42-5fc6e5396a98');\n",
              "          const dataTable =\n",
              "            await google.colab.kernel.invokeFunction('convertToInteractive',\n",
              "                                                     [key], {});\n",
              "          if (!dataTable) return;\n",
              "\n",
              "          const docLinkHtml = 'Like what you see? Visit the ' +\n",
              "            '<a target=\"_blank\" href=https://colab.research.google.com/notebooks/data_table.ipynb>data table notebook</a>'\n",
              "            + ' to learn more about interactive tables.';\n",
              "          element.innerHTML = '';\n",
              "          dataTable['output_type'] = 'display_data';\n",
              "          await google.colab.output.renderOutput(dataTable, element);\n",
              "          const docLink = document.createElement('div');\n",
              "          docLink.innerHTML = docLinkHtml;\n",
              "          element.appendChild(docLink);\n",
              "        }\n",
              "      </script>\n",
              "    </div>\n",
              "  </div>\n",
              "  "
            ]
          },
          "metadata": {},
          "execution_count": 90
        }
      ]
    },
    {
      "cell_type": "code",
      "execution_count": 91,
      "metadata": {
        "id": "iA_lGtwfmSiE"
      },
      "outputs": [],
      "source": [
        "data = pd.get_dummies(data, columns=['Classe', 'Embarque', 'Titulo'], drop_first = True)"
      ]
    },
    {
      "cell_type": "code",
      "execution_count": 92,
      "metadata": {
        "colab": {
          "base_uri": "https://localhost:8080/",
          "height": 302
        },
        "id": "-YdXnoDXmSiE",
        "outputId": "0bc6632a-be16-4a33-b26d-7db9fcecb4a0"
      },
      "outputs": [
        {
          "output_type": "execute_result",
          "data": {
            "text/plain": [
              "             Idade   Tarifa  PaisFilhos  Sexo  IrmaosConjuge  \\\n",
              "PassengerId                                                    \n",
              "1             22.0   7.2500           0     0              1   \n",
              "2             38.0  71.2833           0     1              1   \n",
              "3             26.0   7.9250           0     1              0   \n",
              "4             35.0  53.1000           0     1              1   \n",
              "5             35.0   8.0500           0     0              0   \n",
              "\n",
              "             solteira_com_pais  Classe_2  Classe_3  Embarque_Q  Embarque_S  \\\n",
              "PassengerId                                                                  \n",
              "1                            0         0         1           0           1   \n",
              "2                            0         0         0           0           0   \n",
              "3                            0         0         1           0           1   \n",
              "4                            0         0         0           0           1   \n",
              "5                            0         0         1           0           1   \n",
              "\n",
              "             Titulo_HomemAdulto  Titulo_Menino  Titulo_Solteira  \n",
              "PassengerId                                                      \n",
              "1                             1              0                0  \n",
              "2                             0              0                0  \n",
              "3                             0              0                1  \n",
              "4                             0              0                0  \n",
              "5                             1              0                0  "
            ],
            "text/html": [
              "\n",
              "  <div id=\"df-0a06a196-679d-4bb4-bbc6-bc343185a38d\">\n",
              "    <div class=\"colab-df-container\">\n",
              "      <div>\n",
              "<style scoped>\n",
              "    .dataframe tbody tr th:only-of-type {\n",
              "        vertical-align: middle;\n",
              "    }\n",
              "\n",
              "    .dataframe tbody tr th {\n",
              "        vertical-align: top;\n",
              "    }\n",
              "\n",
              "    .dataframe thead th {\n",
              "        text-align: right;\n",
              "    }\n",
              "</style>\n",
              "<table border=\"1\" class=\"dataframe\">\n",
              "  <thead>\n",
              "    <tr style=\"text-align: right;\">\n",
              "      <th></th>\n",
              "      <th>Idade</th>\n",
              "      <th>Tarifa</th>\n",
              "      <th>PaisFilhos</th>\n",
              "      <th>Sexo</th>\n",
              "      <th>IrmaosConjuge</th>\n",
              "      <th>solteira_com_pais</th>\n",
              "      <th>Classe_2</th>\n",
              "      <th>Classe_3</th>\n",
              "      <th>Embarque_Q</th>\n",
              "      <th>Embarque_S</th>\n",
              "      <th>Titulo_HomemAdulto</th>\n",
              "      <th>Titulo_Menino</th>\n",
              "      <th>Titulo_Solteira</th>\n",
              "    </tr>\n",
              "    <tr>\n",
              "      <th>PassengerId</th>\n",
              "      <th></th>\n",
              "      <th></th>\n",
              "      <th></th>\n",
              "      <th></th>\n",
              "      <th></th>\n",
              "      <th></th>\n",
              "      <th></th>\n",
              "      <th></th>\n",
              "      <th></th>\n",
              "      <th></th>\n",
              "      <th></th>\n",
              "      <th></th>\n",
              "      <th></th>\n",
              "    </tr>\n",
              "  </thead>\n",
              "  <tbody>\n",
              "    <tr>\n",
              "      <th>1</th>\n",
              "      <td>22.0</td>\n",
              "      <td>7.2500</td>\n",
              "      <td>0</td>\n",
              "      <td>0</td>\n",
              "      <td>1</td>\n",
              "      <td>0</td>\n",
              "      <td>0</td>\n",
              "      <td>1</td>\n",
              "      <td>0</td>\n",
              "      <td>1</td>\n",
              "      <td>1</td>\n",
              "      <td>0</td>\n",
              "      <td>0</td>\n",
              "    </tr>\n",
              "    <tr>\n",
              "      <th>2</th>\n",
              "      <td>38.0</td>\n",
              "      <td>71.2833</td>\n",
              "      <td>0</td>\n",
              "      <td>1</td>\n",
              "      <td>1</td>\n",
              "      <td>0</td>\n",
              "      <td>0</td>\n",
              "      <td>0</td>\n",
              "      <td>0</td>\n",
              "      <td>0</td>\n",
              "      <td>0</td>\n",
              "      <td>0</td>\n",
              "      <td>0</td>\n",
              "    </tr>\n",
              "    <tr>\n",
              "      <th>3</th>\n",
              "      <td>26.0</td>\n",
              "      <td>7.9250</td>\n",
              "      <td>0</td>\n",
              "      <td>1</td>\n",
              "      <td>0</td>\n",
              "      <td>0</td>\n",
              "      <td>0</td>\n",
              "      <td>1</td>\n",
              "      <td>0</td>\n",
              "      <td>1</td>\n",
              "      <td>0</td>\n",
              "      <td>0</td>\n",
              "      <td>1</td>\n",
              "    </tr>\n",
              "    <tr>\n",
              "      <th>4</th>\n",
              "      <td>35.0</td>\n",
              "      <td>53.1000</td>\n",
              "      <td>0</td>\n",
              "      <td>1</td>\n",
              "      <td>1</td>\n",
              "      <td>0</td>\n",
              "      <td>0</td>\n",
              "      <td>0</td>\n",
              "      <td>0</td>\n",
              "      <td>1</td>\n",
              "      <td>0</td>\n",
              "      <td>0</td>\n",
              "      <td>0</td>\n",
              "    </tr>\n",
              "    <tr>\n",
              "      <th>5</th>\n",
              "      <td>35.0</td>\n",
              "      <td>8.0500</td>\n",
              "      <td>0</td>\n",
              "      <td>0</td>\n",
              "      <td>0</td>\n",
              "      <td>0</td>\n",
              "      <td>0</td>\n",
              "      <td>1</td>\n",
              "      <td>0</td>\n",
              "      <td>1</td>\n",
              "      <td>1</td>\n",
              "      <td>0</td>\n",
              "      <td>0</td>\n",
              "    </tr>\n",
              "  </tbody>\n",
              "</table>\n",
              "</div>\n",
              "      <button class=\"colab-df-convert\" onclick=\"convertToInteractive('df-0a06a196-679d-4bb4-bbc6-bc343185a38d')\"\n",
              "              title=\"Convert this dataframe to an interactive table.\"\n",
              "              style=\"display:none;\">\n",
              "        \n",
              "  <svg xmlns=\"http://www.w3.org/2000/svg\" height=\"24px\"viewBox=\"0 0 24 24\"\n",
              "       width=\"24px\">\n",
              "    <path d=\"M0 0h24v24H0V0z\" fill=\"none\"/>\n",
              "    <path d=\"M18.56 5.44l.94 2.06.94-2.06 2.06-.94-2.06-.94-.94-2.06-.94 2.06-2.06.94zm-11 1L8.5 8.5l.94-2.06 2.06-.94-2.06-.94L8.5 2.5l-.94 2.06-2.06.94zm10 10l.94 2.06.94-2.06 2.06-.94-2.06-.94-.94-2.06-.94 2.06-2.06.94z\"/><path d=\"M17.41 7.96l-1.37-1.37c-.4-.4-.92-.59-1.43-.59-.52 0-1.04.2-1.43.59L10.3 9.45l-7.72 7.72c-.78.78-.78 2.05 0 2.83L4 21.41c.39.39.9.59 1.41.59.51 0 1.02-.2 1.41-.59l7.78-7.78 2.81-2.81c.8-.78.8-2.07 0-2.86zM5.41 20L4 18.59l7.72-7.72 1.47 1.35L5.41 20z\"/>\n",
              "  </svg>\n",
              "      </button>\n",
              "      \n",
              "  <style>\n",
              "    .colab-df-container {\n",
              "      display:flex;\n",
              "      flex-wrap:wrap;\n",
              "      gap: 12px;\n",
              "    }\n",
              "\n",
              "    .colab-df-convert {\n",
              "      background-color: #E8F0FE;\n",
              "      border: none;\n",
              "      border-radius: 50%;\n",
              "      cursor: pointer;\n",
              "      display: none;\n",
              "      fill: #1967D2;\n",
              "      height: 32px;\n",
              "      padding: 0 0 0 0;\n",
              "      width: 32px;\n",
              "    }\n",
              "\n",
              "    .colab-df-convert:hover {\n",
              "      background-color: #E2EBFA;\n",
              "      box-shadow: 0px 1px 2px rgba(60, 64, 67, 0.3), 0px 1px 3px 1px rgba(60, 64, 67, 0.15);\n",
              "      fill: #174EA6;\n",
              "    }\n",
              "\n",
              "    [theme=dark] .colab-df-convert {\n",
              "      background-color: #3B4455;\n",
              "      fill: #D2E3FC;\n",
              "    }\n",
              "\n",
              "    [theme=dark] .colab-df-convert:hover {\n",
              "      background-color: #434B5C;\n",
              "      box-shadow: 0px 1px 3px 1px rgba(0, 0, 0, 0.15);\n",
              "      filter: drop-shadow(0px 1px 2px rgba(0, 0, 0, 0.3));\n",
              "      fill: #FFFFFF;\n",
              "    }\n",
              "  </style>\n",
              "\n",
              "      <script>\n",
              "        const buttonEl =\n",
              "          document.querySelector('#df-0a06a196-679d-4bb4-bbc6-bc343185a38d button.colab-df-convert');\n",
              "        buttonEl.style.display =\n",
              "          google.colab.kernel.accessAllowed ? 'block' : 'none';\n",
              "\n",
              "        async function convertToInteractive(key) {\n",
              "          const element = document.querySelector('#df-0a06a196-679d-4bb4-bbc6-bc343185a38d');\n",
              "          const dataTable =\n",
              "            await google.colab.kernel.invokeFunction('convertToInteractive',\n",
              "                                                     [key], {});\n",
              "          if (!dataTable) return;\n",
              "\n",
              "          const docLinkHtml = 'Like what you see? Visit the ' +\n",
              "            '<a target=\"_blank\" href=https://colab.research.google.com/notebooks/data_table.ipynb>data table notebook</a>'\n",
              "            + ' to learn more about interactive tables.';\n",
              "          element.innerHTML = '';\n",
              "          dataTable['output_type'] = 'display_data';\n",
              "          await google.colab.output.renderOutput(dataTable, element);\n",
              "          const docLink = document.createElement('div');\n",
              "          docLink.innerHTML = docLinkHtml;\n",
              "          element.appendChild(docLink);\n",
              "        }\n",
              "      </script>\n",
              "    </div>\n",
              "  </div>\n",
              "  "
            ]
          },
          "metadata": {},
          "execution_count": 92
        }
      ],
      "source": [
        "data.head()"
      ]
    },
    {
      "cell_type": "code",
      "execution_count": 94,
      "metadata": {
        "colab": {
          "base_uri": "https://localhost:8080/"
        },
        "id": "rSdfAu8_mSiE",
        "outputId": "6a3d5a1f-da37-41cc-e1be-b5b3c25781bd"
      },
      "outputs": [
        {
          "output_type": "execute_result",
          "data": {
            "text/plain": [
              "(1309, 13)"
            ]
          },
          "metadata": {},
          "execution_count": 94
        }
      ],
      "source": [
        "data.shape"
      ]
    },
    {
      "cell_type": "code",
      "execution_count": null,
      "metadata": {
        "id": "EDESj8sgmSiE"
      },
      "outputs": [],
      "source": []
    },
    {
      "cell_type": "code",
      "execution_count": null,
      "metadata": {
        "id": "IcHlDAnYmSiE"
      },
      "outputs": [],
      "source": []
    },
    {
      "cell_type": "markdown",
      "metadata": {
        "id": "QqrUDEc0mSiF"
      },
      "source": [
        "### Separar train e test para idades\n",
        "* treinar com dados não nulos\n",
        "* aplicar modelo em dados nulos"
      ]
    },
    {
      "cell_type": "code",
      "execution_count": 95,
      "metadata": {
        "colab": {
          "base_uri": "https://localhost:8080/"
        },
        "id": "4-c5Z8uBmSiF",
        "outputId": "b5a22f1d-4715-49aa-fe06-f4f40ec0e512"
      },
      "outputs": [
        {
          "output_type": "execute_result",
          "data": {
            "text/plain": [
              "Idade                 263\n",
              "Tarifa                  0\n",
              "PaisFilhos              0\n",
              "Sexo                    0\n",
              "IrmaosConjuge           0\n",
              "solteira_com_pais       0\n",
              "Classe_2                0\n",
              "Classe_3                0\n",
              "Embarque_Q              0\n",
              "Embarque_S              0\n",
              "Titulo_HomemAdulto      0\n",
              "Titulo_Menino           0\n",
              "Titulo_Solteira         0\n",
              "dtype: int64"
            ]
          },
          "metadata": {},
          "execution_count": 95
        }
      ],
      "source": [
        "data.isnull().sum()"
      ]
    },
    {
      "cell_type": "code",
      "execution_count": 96,
      "metadata": {
        "id": "zMJkpd0omSiF"
      },
      "outputs": [],
      "source": [
        "train_idade = data.dropna()"
      ]
    },
    {
      "cell_type": "code",
      "execution_count": 99,
      "metadata": {
        "id": "xIKcFdJJmSiF"
      },
      "outputs": [],
      "source": [
        "test_idade = data.loc[data['Idade'].isnull()].drop('Idade', axis=1)"
      ]
    },
    {
      "cell_type": "code",
      "execution_count": 100,
      "metadata": {
        "colab": {
          "base_uri": "https://localhost:8080/",
          "height": 519
        },
        "id": "RUA3DI0lmSiF",
        "outputId": "84d75ed2-9a5b-4b20-96d1-434d2234ef0c"
      },
      "outputs": [
        {
          "output_type": "execute_result",
          "data": {
            "text/plain": [
              "              Tarifa  PaisFilhos  Sexo  IrmaosConjuge  solteira_com_pais  \\\n",
              "PassengerId                                                                \n",
              "6             8.4583           0     0              0                  0   \n",
              "18           13.0000           0     0              0                  0   \n",
              "20            7.2250           0     1              0                  0   \n",
              "27            7.2250           0     0              0                  0   \n",
              "29            7.8792           0     1              0                  0   \n",
              "...              ...         ...   ...            ...                ...   \n",
              "1300          7.7208           0     1              0                  0   \n",
              "1302          7.7500           0     1              0                  0   \n",
              "1305          8.0500           0     0              0                  0   \n",
              "1308          8.0500           0     0              0                  0   \n",
              "1309         22.3583           1     0              1                  0   \n",
              "\n",
              "             Classe_2  Classe_3  Embarque_Q  Embarque_S  Titulo_HomemAdulto  \\\n",
              "PassengerId                                                                   \n",
              "6                   0         1           1           0                   1   \n",
              "18                  1         0           0           1                   1   \n",
              "20                  0         1           0           0                   0   \n",
              "27                  0         1           0           0                   1   \n",
              "29                  0         1           1           0                   0   \n",
              "...               ...       ...         ...         ...                 ...   \n",
              "1300                0         1           1           0                   0   \n",
              "1302                0         1           1           0                   0   \n",
              "1305                0         1           0           1                   1   \n",
              "1308                0         1           0           1                   1   \n",
              "1309                0         1           0           0                   0   \n",
              "\n",
              "             Titulo_Menino  Titulo_Solteira  \n",
              "PassengerId                                  \n",
              "6                        0                0  \n",
              "18                       0                0  \n",
              "20                       0                0  \n",
              "27                       0                0  \n",
              "29                       0                1  \n",
              "...                    ...              ...  \n",
              "1300                     0                1  \n",
              "1302                     0                1  \n",
              "1305                     0                0  \n",
              "1308                     0                0  \n",
              "1309                     1                0  \n",
              "\n",
              "[263 rows x 12 columns]"
            ],
            "text/html": [
              "\n",
              "  <div id=\"df-60fdeb0c-58fc-49dd-9652-cb92d2c5b3bb\">\n",
              "    <div class=\"colab-df-container\">\n",
              "      <div>\n",
              "<style scoped>\n",
              "    .dataframe tbody tr th:only-of-type {\n",
              "        vertical-align: middle;\n",
              "    }\n",
              "\n",
              "    .dataframe tbody tr th {\n",
              "        vertical-align: top;\n",
              "    }\n",
              "\n",
              "    .dataframe thead th {\n",
              "        text-align: right;\n",
              "    }\n",
              "</style>\n",
              "<table border=\"1\" class=\"dataframe\">\n",
              "  <thead>\n",
              "    <tr style=\"text-align: right;\">\n",
              "      <th></th>\n",
              "      <th>Tarifa</th>\n",
              "      <th>PaisFilhos</th>\n",
              "      <th>Sexo</th>\n",
              "      <th>IrmaosConjuge</th>\n",
              "      <th>solteira_com_pais</th>\n",
              "      <th>Classe_2</th>\n",
              "      <th>Classe_3</th>\n",
              "      <th>Embarque_Q</th>\n",
              "      <th>Embarque_S</th>\n",
              "      <th>Titulo_HomemAdulto</th>\n",
              "      <th>Titulo_Menino</th>\n",
              "      <th>Titulo_Solteira</th>\n",
              "    </tr>\n",
              "    <tr>\n",
              "      <th>PassengerId</th>\n",
              "      <th></th>\n",
              "      <th></th>\n",
              "      <th></th>\n",
              "      <th></th>\n",
              "      <th></th>\n",
              "      <th></th>\n",
              "      <th></th>\n",
              "      <th></th>\n",
              "      <th></th>\n",
              "      <th></th>\n",
              "      <th></th>\n",
              "      <th></th>\n",
              "    </tr>\n",
              "  </thead>\n",
              "  <tbody>\n",
              "    <tr>\n",
              "      <th>6</th>\n",
              "      <td>8.4583</td>\n",
              "      <td>0</td>\n",
              "      <td>0</td>\n",
              "      <td>0</td>\n",
              "      <td>0</td>\n",
              "      <td>0</td>\n",
              "      <td>1</td>\n",
              "      <td>1</td>\n",
              "      <td>0</td>\n",
              "      <td>1</td>\n",
              "      <td>0</td>\n",
              "      <td>0</td>\n",
              "    </tr>\n",
              "    <tr>\n",
              "      <th>18</th>\n",
              "      <td>13.0000</td>\n",
              "      <td>0</td>\n",
              "      <td>0</td>\n",
              "      <td>0</td>\n",
              "      <td>0</td>\n",
              "      <td>1</td>\n",
              "      <td>0</td>\n",
              "      <td>0</td>\n",
              "      <td>1</td>\n",
              "      <td>1</td>\n",
              "      <td>0</td>\n",
              "      <td>0</td>\n",
              "    </tr>\n",
              "    <tr>\n",
              "      <th>20</th>\n",
              "      <td>7.2250</td>\n",
              "      <td>0</td>\n",
              "      <td>1</td>\n",
              "      <td>0</td>\n",
              "      <td>0</td>\n",
              "      <td>0</td>\n",
              "      <td>1</td>\n",
              "      <td>0</td>\n",
              "      <td>0</td>\n",
              "      <td>0</td>\n",
              "      <td>0</td>\n",
              "      <td>0</td>\n",
              "    </tr>\n",
              "    <tr>\n",
              "      <th>27</th>\n",
              "      <td>7.2250</td>\n",
              "      <td>0</td>\n",
              "      <td>0</td>\n",
              "      <td>0</td>\n",
              "      <td>0</td>\n",
              "      <td>0</td>\n",
              "      <td>1</td>\n",
              "      <td>0</td>\n",
              "      <td>0</td>\n",
              "      <td>1</td>\n",
              "      <td>0</td>\n",
              "      <td>0</td>\n",
              "    </tr>\n",
              "    <tr>\n",
              "      <th>29</th>\n",
              "      <td>7.8792</td>\n",
              "      <td>0</td>\n",
              "      <td>1</td>\n",
              "      <td>0</td>\n",
              "      <td>0</td>\n",
              "      <td>0</td>\n",
              "      <td>1</td>\n",
              "      <td>1</td>\n",
              "      <td>0</td>\n",
              "      <td>0</td>\n",
              "      <td>0</td>\n",
              "      <td>1</td>\n",
              "    </tr>\n",
              "    <tr>\n",
              "      <th>...</th>\n",
              "      <td>...</td>\n",
              "      <td>...</td>\n",
              "      <td>...</td>\n",
              "      <td>...</td>\n",
              "      <td>...</td>\n",
              "      <td>...</td>\n",
              "      <td>...</td>\n",
              "      <td>...</td>\n",
              "      <td>...</td>\n",
              "      <td>...</td>\n",
              "      <td>...</td>\n",
              "      <td>...</td>\n",
              "    </tr>\n",
              "    <tr>\n",
              "      <th>1300</th>\n",
              "      <td>7.7208</td>\n",
              "      <td>0</td>\n",
              "      <td>1</td>\n",
              "      <td>0</td>\n",
              "      <td>0</td>\n",
              "      <td>0</td>\n",
              "      <td>1</td>\n",
              "      <td>1</td>\n",
              "      <td>0</td>\n",
              "      <td>0</td>\n",
              "      <td>0</td>\n",
              "      <td>1</td>\n",
              "    </tr>\n",
              "    <tr>\n",
              "      <th>1302</th>\n",
              "      <td>7.7500</td>\n",
              "      <td>0</td>\n",
              "      <td>1</td>\n",
              "      <td>0</td>\n",
              "      <td>0</td>\n",
              "      <td>0</td>\n",
              "      <td>1</td>\n",
              "      <td>1</td>\n",
              "      <td>0</td>\n",
              "      <td>0</td>\n",
              "      <td>0</td>\n",
              "      <td>1</td>\n",
              "    </tr>\n",
              "    <tr>\n",
              "      <th>1305</th>\n",
              "      <td>8.0500</td>\n",
              "      <td>0</td>\n",
              "      <td>0</td>\n",
              "      <td>0</td>\n",
              "      <td>0</td>\n",
              "      <td>0</td>\n",
              "      <td>1</td>\n",
              "      <td>0</td>\n",
              "      <td>1</td>\n",
              "      <td>1</td>\n",
              "      <td>0</td>\n",
              "      <td>0</td>\n",
              "    </tr>\n",
              "    <tr>\n",
              "      <th>1308</th>\n",
              "      <td>8.0500</td>\n",
              "      <td>0</td>\n",
              "      <td>0</td>\n",
              "      <td>0</td>\n",
              "      <td>0</td>\n",
              "      <td>0</td>\n",
              "      <td>1</td>\n",
              "      <td>0</td>\n",
              "      <td>1</td>\n",
              "      <td>1</td>\n",
              "      <td>0</td>\n",
              "      <td>0</td>\n",
              "    </tr>\n",
              "    <tr>\n",
              "      <th>1309</th>\n",
              "      <td>22.3583</td>\n",
              "      <td>1</td>\n",
              "      <td>0</td>\n",
              "      <td>1</td>\n",
              "      <td>0</td>\n",
              "      <td>0</td>\n",
              "      <td>1</td>\n",
              "      <td>0</td>\n",
              "      <td>0</td>\n",
              "      <td>0</td>\n",
              "      <td>1</td>\n",
              "      <td>0</td>\n",
              "    </tr>\n",
              "  </tbody>\n",
              "</table>\n",
              "<p>263 rows × 12 columns</p>\n",
              "</div>\n",
              "      <button class=\"colab-df-convert\" onclick=\"convertToInteractive('df-60fdeb0c-58fc-49dd-9652-cb92d2c5b3bb')\"\n",
              "              title=\"Convert this dataframe to an interactive table.\"\n",
              "              style=\"display:none;\">\n",
              "        \n",
              "  <svg xmlns=\"http://www.w3.org/2000/svg\" height=\"24px\"viewBox=\"0 0 24 24\"\n",
              "       width=\"24px\">\n",
              "    <path d=\"M0 0h24v24H0V0z\" fill=\"none\"/>\n",
              "    <path d=\"M18.56 5.44l.94 2.06.94-2.06 2.06-.94-2.06-.94-.94-2.06-.94 2.06-2.06.94zm-11 1L8.5 8.5l.94-2.06 2.06-.94-2.06-.94L8.5 2.5l-.94 2.06-2.06.94zm10 10l.94 2.06.94-2.06 2.06-.94-2.06-.94-.94-2.06-.94 2.06-2.06.94z\"/><path d=\"M17.41 7.96l-1.37-1.37c-.4-.4-.92-.59-1.43-.59-.52 0-1.04.2-1.43.59L10.3 9.45l-7.72 7.72c-.78.78-.78 2.05 0 2.83L4 21.41c.39.39.9.59 1.41.59.51 0 1.02-.2 1.41-.59l7.78-7.78 2.81-2.81c.8-.78.8-2.07 0-2.86zM5.41 20L4 18.59l7.72-7.72 1.47 1.35L5.41 20z\"/>\n",
              "  </svg>\n",
              "      </button>\n",
              "      \n",
              "  <style>\n",
              "    .colab-df-container {\n",
              "      display:flex;\n",
              "      flex-wrap:wrap;\n",
              "      gap: 12px;\n",
              "    }\n",
              "\n",
              "    .colab-df-convert {\n",
              "      background-color: #E8F0FE;\n",
              "      border: none;\n",
              "      border-radius: 50%;\n",
              "      cursor: pointer;\n",
              "      display: none;\n",
              "      fill: #1967D2;\n",
              "      height: 32px;\n",
              "      padding: 0 0 0 0;\n",
              "      width: 32px;\n",
              "    }\n",
              "\n",
              "    .colab-df-convert:hover {\n",
              "      background-color: #E2EBFA;\n",
              "      box-shadow: 0px 1px 2px rgba(60, 64, 67, 0.3), 0px 1px 3px 1px rgba(60, 64, 67, 0.15);\n",
              "      fill: #174EA6;\n",
              "    }\n",
              "\n",
              "    [theme=dark] .colab-df-convert {\n",
              "      background-color: #3B4455;\n",
              "      fill: #D2E3FC;\n",
              "    }\n",
              "\n",
              "    [theme=dark] .colab-df-convert:hover {\n",
              "      background-color: #434B5C;\n",
              "      box-shadow: 0px 1px 3px 1px rgba(0, 0, 0, 0.15);\n",
              "      filter: drop-shadow(0px 1px 2px rgba(0, 0, 0, 0.3));\n",
              "      fill: #FFFFFF;\n",
              "    }\n",
              "  </style>\n",
              "\n",
              "      <script>\n",
              "        const buttonEl =\n",
              "          document.querySelector('#df-60fdeb0c-58fc-49dd-9652-cb92d2c5b3bb button.colab-df-convert');\n",
              "        buttonEl.style.display =\n",
              "          google.colab.kernel.accessAllowed ? 'block' : 'none';\n",
              "\n",
              "        async function convertToInteractive(key) {\n",
              "          const element = document.querySelector('#df-60fdeb0c-58fc-49dd-9652-cb92d2c5b3bb');\n",
              "          const dataTable =\n",
              "            await google.colab.kernel.invokeFunction('convertToInteractive',\n",
              "                                                     [key], {});\n",
              "          if (!dataTable) return;\n",
              "\n",
              "          const docLinkHtml = 'Like what you see? Visit the ' +\n",
              "            '<a target=\"_blank\" href=https://colab.research.google.com/notebooks/data_table.ipynb>data table notebook</a>'\n",
              "            + ' to learn more about interactive tables.';\n",
              "          element.innerHTML = '';\n",
              "          dataTable['output_type'] = 'display_data';\n",
              "          await google.colab.output.renderOutput(dataTable, element);\n",
              "          const docLink = document.createElement('div');\n",
              "          docLink.innerHTML = docLinkHtml;\n",
              "          element.appendChild(docLink);\n",
              "        }\n",
              "      </script>\n",
              "    </div>\n",
              "  </div>\n",
              "  "
            ]
          },
          "metadata": {},
          "execution_count": 100
        }
      ],
      "source": [
        "test_idade"
      ]
    },
    {
      "cell_type": "code",
      "source": [
        "train_idade.shape, test_idade.shape"
      ],
      "metadata": {
        "colab": {
          "base_uri": "https://localhost:8080/"
        },
        "id": "sRDTiKcl3Ogm",
        "outputId": "3880c654-158b-4783-9568-2d01c0ee42c1"
      },
      "execution_count": 101,
      "outputs": [
        {
          "output_type": "execute_result",
          "data": {
            "text/plain": [
              "((1046, 13), (263, 12))"
            ]
          },
          "metadata": {},
          "execution_count": 101
        }
      ]
    },
    {
      "cell_type": "markdown",
      "metadata": {
        "id": "-soak03FmSiF"
      },
      "source": [
        "## Definir X e y para treinar o modelo"
      ]
    },
    {
      "cell_type": "code",
      "execution_count": 102,
      "metadata": {
        "id": "Lpxk1A8gmSiF"
      },
      "outputs": [],
      "source": [
        "X = train_idade.drop('Idade', axis=1)"
      ]
    },
    {
      "cell_type": "code",
      "execution_count": 103,
      "metadata": {
        "id": "UxgrupQemSiF"
      },
      "outputs": [],
      "source": [
        "y = train_idade['Idade']"
      ]
    },
    {
      "cell_type": "code",
      "execution_count": 104,
      "metadata": {
        "colab": {
          "base_uri": "https://localhost:8080/"
        },
        "id": "cq-5qMPHmSiG",
        "outputId": "9deee2c6-96d6-42ed-df73-9a383bb38cf2"
      },
      "outputs": [
        {
          "output_type": "execute_result",
          "data": {
            "text/plain": [
              "((1046, 12), (1046,))"
            ]
          },
          "metadata": {},
          "execution_count": 104
        }
      ],
      "source": [
        "X.shape, y.shape"
      ]
    },
    {
      "cell_type": "markdown",
      "metadata": {
        "id": "B3YFCnyQmSiG"
      },
      "source": [
        "### Importar modelo regressivo"
      ]
    },
    {
      "cell_type": "code",
      "execution_count": 105,
      "metadata": {
        "id": "wenx0LSsmSiG"
      },
      "outputs": [],
      "source": [
        "from sklearn import linear_model"
      ]
    },
    {
      "cell_type": "markdown",
      "metadata": {
        "id": "l60ZJocwmSiG"
      },
      "source": [
        "### Instanciar modelo"
      ]
    },
    {
      "cell_type": "code",
      "execution_count": 106,
      "metadata": {
        "id": "4bRxa6PkmSiG"
      },
      "outputs": [],
      "source": [
        "lm = linear_model.LinearRegression()"
      ]
    },
    {
      "cell_type": "markdown",
      "metadata": {
        "id": "u8pM_XfpmSiG"
      },
      "source": [
        "### Importar train_test_split para preparar para treino"
      ]
    },
    {
      "cell_type": "code",
      "execution_count": 107,
      "metadata": {
        "id": "I6CVvsZKmSiG"
      },
      "outputs": [],
      "source": [
        "from sklearn.model_selection import train_test_split"
      ]
    },
    {
      "cell_type": "markdown",
      "metadata": {
        "id": "RPUxU053mSiG"
      },
      "source": [
        "### Dividir 70% para treinar, 30% para testar"
      ]
    },
    {
      "cell_type": "code",
      "source": [
        "X_train, X_test, y_train, y_test = train_test_split(X, y, test_size=0.30, random_state=123)"
      ],
      "metadata": {
        "id": "zhHoWfW24sEt"
      },
      "execution_count": 109,
      "outputs": []
    },
    {
      "cell_type": "markdown",
      "metadata": {
        "id": "ixLHssyFmSiG"
      },
      "source": [
        "### Treinar modelo"
      ]
    },
    {
      "cell_type": "code",
      "execution_count": 110,
      "metadata": {
        "colab": {
          "base_uri": "https://localhost:8080/"
        },
        "id": "LOONuYCCmSiG",
        "outputId": "fe95b230-4b36-4fda-aaf7-3942f3650968"
      },
      "outputs": [
        {
          "output_type": "execute_result",
          "data": {
            "text/plain": [
              "((732, 12), (732,))"
            ]
          },
          "metadata": {},
          "execution_count": 110
        }
      ],
      "source": [
        "X_train.shape, y_train.shape"
      ]
    },
    {
      "cell_type": "code",
      "execution_count": 111,
      "metadata": {
        "colab": {
          "base_uri": "https://localhost:8080/"
        },
        "id": "9Nyba03gmSiH",
        "outputId": "80fb7c25-0aa5-44be-de8e-45002908b17c"
      },
      "outputs": [
        {
          "output_type": "execute_result",
          "data": {
            "text/plain": [
              "((314, 12), (314,))"
            ]
          },
          "metadata": {},
          "execution_count": 111
        }
      ],
      "source": [
        "X_test.shape, y_test.shape # valor real"
      ]
    },
    {
      "cell_type": "code",
      "execution_count": 112,
      "metadata": {
        "colab": {
          "base_uri": "https://localhost:8080/"
        },
        "id": "JyD5QsCRmSiH",
        "outputId": "ed2886f7-9ad1-4298-9cc8-0fd1fa7f39a6"
      },
      "outputs": [
        {
          "output_type": "execute_result",
          "data": {
            "text/plain": [
              "LinearRegression()"
            ]
          },
          "metadata": {},
          "execution_count": 112
        }
      ],
      "source": [
        "lm.fit(X_train, y_train) # aplicando o treino"
      ]
    },
    {
      "cell_type": "markdown",
      "metadata": {
        "id": "jdWFjdSimSiH"
      },
      "source": [
        "### Fazer predição"
      ]
    },
    {
      "cell_type": "code",
      "execution_count": 114,
      "metadata": {
        "colab": {
          "base_uri": "https://localhost:8080/"
        },
        "id": "BWtme47RmSiH",
        "outputId": "4232a1e5-377b-4b95-a7cc-cdb55ee0f548"
      },
      "outputs": [
        {
          "output_type": "execute_result",
          "data": {
            "text/plain": [
              "(314,)"
            ]
          },
          "metadata": {},
          "execution_count": 114
        }
      ],
      "source": [
        "pred = lm.predict(X_test) # valores preditivos\n",
        "pred.shape"
      ]
    },
    {
      "cell_type": "markdown",
      "metadata": {
        "id": "IMkpMePVmSiH"
      },
      "source": [
        "### Importar mean_squared_error (erro quadrado médio)"
      ]
    },
    {
      "cell_type": "code",
      "execution_count": 115,
      "metadata": {
        "id": "3ZmOuAnTmSiI"
      },
      "outputs": [],
      "source": [
        "from sklearn.metrics import mean_squared_error"
      ]
    },
    {
      "cell_type": "markdown",
      "metadata": {
        "id": "Fq6Ul9aHmSiI"
      },
      "source": [
        "### Averiguar score"
      ]
    },
    {
      "cell_type": "code",
      "execution_count": 117,
      "metadata": {
        "colab": {
          "base_uri": "https://localhost:8080/"
        },
        "id": "lAJT6wxcmSiI",
        "outputId": "51d91856-6309-445d-f937-cf28caee5e35"
      },
      "outputs": [
        {
          "output_type": "execute_result",
          "data": {
            "text/plain": [
              "0.4805876982432217"
            ]
          },
          "metadata": {},
          "execution_count": 117
        }
      ],
      "source": [
        "lm.score(X_test, y_test) # quão bem avaliado estão os dados"
      ]
    },
    {
      "cell_type": "markdown",
      "metadata": {
        "id": "IDsyteIzmSiI"
      },
      "source": [
        "### Averiguar rmse"
      ]
    },
    {
      "cell_type": "code",
      "execution_count": 118,
      "metadata": {
        "id": "3exMUtPNmSiI"
      },
      "outputs": [],
      "source": [
        "mse = mean_squared_error(y_test, pred) # diferencial do dado original pro preditivo"
      ]
    },
    {
      "cell_type": "code",
      "execution_count": 119,
      "metadata": {
        "colab": {
          "base_uri": "https://localhost:8080/"
        },
        "id": "dhrhHfmlmSiI",
        "outputId": "bf19dca3-77f9-4c99-91f6-9eff7f162c80"
      },
      "outputs": [
        {
          "output_type": "execute_result",
          "data": {
            "text/plain": [
              "10.363417349081407"
            ]
          },
          "metadata": {},
          "execution_count": 119
        }
      ],
      "source": [
        "rmse = np.sqrt(mse) # Erro de 10 pra cima ou pra baixo\n",
        "rmse"
      ]
    },
    {
      "cell_type": "markdown",
      "metadata": {
        "id": "-LSf_9ZJmSiI"
      },
      "source": [
        "### Visualizar resíduos em scatterplot"
      ]
    },
    {
      "cell_type": "code",
      "execution_count": 120,
      "metadata": {
        "colab": {
          "base_uri": "https://localhost:8080/",
          "height": 265
        },
        "id": "eBaTpwV8mSiI",
        "outputId": "3b46bf6e-0c3a-4ff1-e162-e9c8a0f35ec1"
      },
      "outputs": [
        {
          "output_type": "display_data",
          "data": {
            "text/plain": [
              "<Figure size 432x288 with 1 Axes>"
            ],
            "image/png": "[encoded data removed]"
          },
          "metadata": {
            "needs_background": "light"
          }
        }
      ],
      "source": [
        "plt.scatter(y_test, pred)\n",
        "plt.show()"
      ]
    },
    {
      "cell_type": "markdown",
      "metadata": {
        "id": "s2pd_PuEmSiI"
      },
      "source": [
        "<a name=\"tarifa\"></a>"
      ]
    },
    {
      "cell_type": "markdown",
      "metadata": {
        "id": "gexpUyzPmSiJ"
      },
      "source": [
        "### Aplicar modelo nos dados nulos"
      ]
    },
    {
      "cell_type": "code",
      "execution_count": 121,
      "metadata": {
        "colab": {
          "base_uri": "https://localhost:8080/"
        },
        "id": "gvMhzRwImSiJ",
        "outputId": "060a5dec-db38-41b1-a872-10d409a751d3"
      },
      "outputs": [
        {
          "output_type": "execute_result",
          "data": {
            "text/plain": [
              "(263, 12)"
            ]
          },
          "metadata": {},
          "execution_count": 121
        }
      ],
      "source": [
        "test_idade.shape"
      ]
    },
    {
      "cell_type": "code",
      "execution_count": 122,
      "metadata": {
        "id": "5qqMDJv-mSiJ"
      },
      "outputs": [],
      "source": [
        "pred_idade = lm.predict(test_idade)"
      ]
    },
    {
      "cell_type": "code",
      "execution_count": 123,
      "metadata": {
        "colab": {
          "base_uri": "https://localhost:8080/"
        },
        "id": "ZI1kzTIqmSiJ",
        "outputId": "5df7f881-8e70-48b7-89d8-2a530132d39f"
      },
      "outputs": [
        {
          "output_type": "execute_result",
          "data": {
            "text/plain": [
              "(263,)"
            ]
          },
          "metadata": {},
          "execution_count": 123
        }
      ],
      "source": [
        "pred_idade.shape"
      ]
    },
    {
      "cell_type": "markdown",
      "metadata": {
        "id": "4jv44iC2mSiJ"
      },
      "source": [
        "### Criar coluna Idade contendos as predições"
      ]
    },
    {
      "cell_type": "code",
      "execution_count": 124,
      "metadata": {
        "id": "Ps6BxalxmSiK"
      },
      "outputs": [],
      "source": [
        "test_idade['Idade'] = pred_idade"
      ]
    },
    {
      "cell_type": "code",
      "execution_count": 125,
      "metadata": {
        "colab": {
          "base_uri": "https://localhost:8080/"
        },
        "id": "48WNZTjrmSiK",
        "outputId": "a9e5531b-395f-4b06-e345-b85a9e228819"
      },
      "outputs": [
        {
          "output_type": "execute_result",
          "data": {
            "text/plain": [
              "Tarifa                0\n",
              "PaisFilhos            0\n",
              "Sexo                  0\n",
              "IrmaosConjuge         0\n",
              "solteira_com_pais     0\n",
              "Classe_2              0\n",
              "Classe_3              0\n",
              "Embarque_Q            0\n",
              "Embarque_S            0\n",
              "Titulo_HomemAdulto    0\n",
              "Titulo_Menino         0\n",
              "Titulo_Solteira       0\n",
              "Idade                 0\n",
              "dtype: int64"
            ]
          },
          "metadata": {},
          "execution_count": 125
        }
      ],
      "source": [
        "test_idade.isnull().sum()"
      ]
    },
    {
      "cell_type": "markdown",
      "metadata": {
        "id": "QCt3w9bVmSiK"
      },
      "source": [
        "### Averiguar shapes"
      ]
    },
    {
      "cell_type": "code",
      "execution_count": 126,
      "metadata": {
        "colab": {
          "base_uri": "https://localhost:8080/"
        },
        "id": "_I_AmRaTmSiK",
        "outputId": "a144c279-690b-401c-ebeb-26c490a29021"
      },
      "outputs": [
        {
          "output_type": "execute_result",
          "data": {
            "text/plain": [
              "((263, 13), (1046, 13))"
            ]
          },
          "metadata": {},
          "execution_count": 126
        }
      ],
      "source": [
        "test_idade.shape, train_idade.shape"
      ]
    },
    {
      "cell_type": "markdown",
      "metadata": {
        "id": "U5SQQgramSiL"
      },
      "source": [
        "### Concatenar dados"
      ]
    },
    {
      "cell_type": "code",
      "execution_count": 127,
      "metadata": {
        "id": "f3e32zEMmSiL"
      },
      "outputs": [],
      "source": [
        "idade = pd.concat([train_idade, test_idade], sort=False)"
      ]
    },
    {
      "cell_type": "markdown",
      "metadata": {
        "id": "UyCo4TF_mSiL"
      },
      "source": [
        "### Criar DataFrame contendo \"IdPassageiro\" e \"Idade\""
      ]
    },
    {
      "cell_type": "code",
      "execution_count": 128,
      "metadata": {
        "colab": {
          "base_uri": "https://localhost:8080/"
        },
        "id": "HvvEPOn_mSiL",
        "outputId": "c517f785-c0f8-4679-d063-bb18b723e24b"
      },
      "outputs": [
        {
          "output_type": "execute_result",
          "data": {
            "text/plain": [
              "(1309, 13)"
            ]
          },
          "metadata": {},
          "execution_count": 128
        }
      ],
      "source": [
        "idade.shape"
      ]
    },
    {
      "cell_type": "code",
      "execution_count": 129,
      "metadata": {
        "id": "U9Jf8fbwmSiL"
      },
      "outputs": [],
      "source": [
        "idade_completa = pd.DataFrame({'IdPassageiro': idade.index, 'Idade': idade['Idade']})"
      ]
    },
    {
      "cell_type": "code",
      "execution_count": 130,
      "metadata": {
        "colab": {
          "base_uri": "https://localhost:8080/",
          "height": 455
        },
        "id": "ccg7-kmmmSiM",
        "outputId": "dfd5f039-bfaa-4b0d-eb32-163e76c1fe0b"
      },
      "outputs": [
        {
          "output_type": "execute_result",
          "data": {
            "text/plain": [
              "             IdPassageiro      Idade\n",
              "PassengerId                         \n",
              "1                       1  22.000000\n",
              "2                       2  38.000000\n",
              "3                       3  26.000000\n",
              "4                       4  35.000000\n",
              "5                       5  35.000000\n",
              "...                   ...        ...\n",
              "1300                 1300  25.163780\n",
              "1302                 1302  25.163531\n",
              "1305                 1305  29.088798\n",
              "1308                 1308  29.088798\n",
              "1309                 1309   0.914441\n",
              "\n",
              "[1309 rows x 2 columns]"
            ],
            "text/html": [
              "\n",
              "  <div id=\"df-d4e87c12-8630-4467-9432-aac1a3a0bfa8\">\n",
              "    <div class=\"colab-df-container\">\n",
              "      <div>\n",
              "<style scoped>\n",
              "    .dataframe tbody tr th:only-of-type {\n",
              "        vertical-align: middle;\n",
              "    }\n",
              "\n",
              "    .dataframe tbody tr th {\n",
              "        vertical-align: top;\n",
              "    }\n",
              "\n",
              "    .dataframe thead th {\n",
              "        text-align: right;\n",
              "    }\n",
              "</style>\n",
              "<table border=\"1\" class=\"dataframe\">\n",
              "  <thead>\n",
              "    <tr style=\"text-align: right;\">\n",
              "      <th></th>\n",
              "      <th>IdPassageiro</th>\n",
              "      <th>Idade</th>\n",
              "    </tr>\n",
              "    <tr>\n",
              "      <th>PassengerId</th>\n",
              "      <th></th>\n",
              "      <th></th>\n",
              "    </tr>\n",
              "  </thead>\n",
              "  <tbody>\n",
              "    <tr>\n",
              "      <th>1</th>\n",
              "      <td>1</td>\n",
              "      <td>22.000000</td>\n",
              "    </tr>\n",
              "    <tr>\n",
              "      <th>2</th>\n",
              "      <td>2</td>\n",
              "      <td>38.000000</td>\n",
              "    </tr>\n",
              "    <tr>\n",
              "      <th>3</th>\n",
              "      <td>3</td>\n",
              "      <td>26.000000</td>\n",
              "    </tr>\n",
              "    <tr>\n",
              "      <th>4</th>\n",
              "      <td>4</td>\n",
              "      <td>35.000000</td>\n",
              "    </tr>\n",
              "    <tr>\n",
              "      <th>5</th>\n",
              "      <td>5</td>\n",
              "      <td>35.000000</td>\n",
              "    </tr>\n",
              "    <tr>\n",
              "      <th>...</th>\n",
              "      <td>...</td>\n",
              "      <td>...</td>\n",
              "    </tr>\n",
              "    <tr>\n",
              "      <th>1300</th>\n",
              "      <td>1300</td>\n",
              "      <td>25.163780</td>\n",
              "    </tr>\n",
              "    <tr>\n",
              "      <th>1302</th>\n",
              "      <td>1302</td>\n",
              "      <td>25.163531</td>\n",
              "    </tr>\n",
              "    <tr>\n",
              "      <th>1305</th>\n",
              "      <td>1305</td>\n",
              "      <td>29.088798</td>\n",
              "    </tr>\n",
              "    <tr>\n",
              "      <th>1308</th>\n",
              "      <td>1308</td>\n",
              "      <td>29.088798</td>\n",
              "    </tr>\n",
              "    <tr>\n",
              "      <th>1309</th>\n",
              "      <td>1309</td>\n",
              "      <td>0.914441</td>\n",
              "    </tr>\n",
              "  </tbody>\n",
              "</table>\n",
              "<p>1309 rows × 2 columns</p>\n",
              "</div>\n",
              "      <button class=\"colab-df-convert\" onclick=\"convertToInteractive('df-d4e87c12-8630-4467-9432-aac1a3a0bfa8')\"\n",
              "              title=\"Convert this dataframe to an interactive table.\"\n",
              "              style=\"display:none;\">\n",
              "        \n",
              "  <svg xmlns=\"http://www.w3.org/2000/svg\" height=\"24px\"viewBox=\"0 0 24 24\"\n",
              "       width=\"24px\">\n",
              "    <path d=\"M0 0h24v24H0V0z\" fill=\"none\"/>\n",
              "    <path d=\"M18.56 5.44l.94 2.06.94-2.06 2.06-.94-2.06-.94-.94-2.06-.94 2.06-2.06.94zm-11 1L8.5 8.5l.94-2.06 2.06-.94-2.06-.94L8.5 2.5l-.94 2.06-2.06.94zm10 10l.94 2.06.94-2.06 2.06-.94-2.06-.94-.94-2.06-.94 2.06-2.06.94z\"/><path d=\"M17.41 7.96l-1.37-1.37c-.4-.4-.92-.59-1.43-.59-.52 0-1.04.2-1.43.59L10.3 9.45l-7.72 7.72c-.78.78-.78 2.05 0 2.83L4 21.41c.39.39.9.59 1.41.59.51 0 1.02-.2 1.41-.59l7.78-7.78 2.81-2.81c.8-.78.8-2.07 0-2.86zM5.41 20L4 18.59l7.72-7.72 1.47 1.35L5.41 20z\"/>\n",
              "  </svg>\n",
              "      </button>\n",
              "      \n",
              "  <style>\n",
              "    .colab-df-container {\n",
              "      display:flex;\n",
              "      flex-wrap:wrap;\n",
              "      gap: 12px;\n",
              "    }\n",
              "\n",
              "    .colab-df-convert {\n",
              "      background-color: #E8F0FE;\n",
              "      border: none;\n",
              "      border-radius: 50%;\n",
              "      cursor: pointer;\n",
              "      display: none;\n",
              "      fill: #1967D2;\n",
              "      height: 32px;\n",
              "      padding: 0 0 0 0;\n",
              "      width: 32px;\n",
              "    }\n",
              "\n",
              "    .colab-df-convert:hover {\n",
              "      background-color: #E2EBFA;\n",
              "      box-shadow: 0px 1px 2px rgba(60, 64, 67, 0.3), 0px 1px 3px 1px rgba(60, 64, 67, 0.15);\n",
              "      fill: #174EA6;\n",
              "    }\n",
              "\n",
              "    [theme=dark] .colab-df-convert {\n",
              "      background-color: #3B4455;\n",
              "      fill: #D2E3FC;\n",
              "    }\n",
              "\n",
              "    [theme=dark] .colab-df-convert:hover {\n",
              "      background-color: #434B5C;\n",
              "      box-shadow: 0px 1px 3px 1px rgba(0, 0, 0, 0.15);\n",
              "      filter: drop-shadow(0px 1px 2px rgba(0, 0, 0, 0.3));\n",
              "      fill: #FFFFFF;\n",
              "    }\n",
              "  </style>\n",
              "\n",
              "      <script>\n",
              "        const buttonEl =\n",
              "          document.querySelector('#df-d4e87c12-8630-4467-9432-aac1a3a0bfa8 button.colab-df-convert');\n",
              "        buttonEl.style.display =\n",
              "          google.colab.kernel.accessAllowed ? 'block' : 'none';\n",
              "\n",
              "        async function convertToInteractive(key) {\n",
              "          const element = document.querySelector('#df-d4e87c12-8630-4467-9432-aac1a3a0bfa8');\n",
              "          const dataTable =\n",
              "            await google.colab.kernel.invokeFunction('convertToInteractive',\n",
              "                                                     [key], {});\n",
              "          if (!dataTable) return;\n",
              "\n",
              "          const docLinkHtml = 'Like what you see? Visit the ' +\n",
              "            '<a target=\"_blank\" href=https://colab.research.google.com/notebooks/data_table.ipynb>data table notebook</a>'\n",
              "            + ' to learn more about interactive tables.';\n",
              "          element.innerHTML = '';\n",
              "          dataTable['output_type'] = 'display_data';\n",
              "          await google.colab.output.renderOutput(dataTable, element);\n",
              "          const docLink = document.createElement('div');\n",
              "          docLink.innerHTML = docLinkHtml;\n",
              "          element.appendChild(docLink);\n",
              "        }\n",
              "      </script>\n",
              "    </div>\n",
              "  </div>\n",
              "  "
            ]
          },
          "metadata": {},
          "execution_count": 130
        }
      ],
      "source": [
        "idade_completa"
      ]
    },
    {
      "cell_type": "markdown",
      "metadata": {
        "id": "69hDuigKmSiM"
      },
      "source": [
        "### Salvar CSV com idade completa"
      ]
    },
    {
      "cell_type": "code",
      "execution_count": 131,
      "metadata": {
        "id": "455MAxNLmSiM"
      },
      "outputs": [],
      "source": [
        "idade_completa.to_csv('idade_completa.csv', index=False)"
      ]
    },
    {
      "cell_type": "code",
      "execution_count": 132,
      "metadata": {
        "id": "3KwIRNn-mSiM"
      },
      "outputs": [],
      "source": [
        "data_idade = pd.read_csv('idade_completa.csv')"
      ]
    },
    {
      "cell_type": "code",
      "execution_count": 133,
      "metadata": {
        "colab": {
          "base_uri": "https://localhost:8080/",
          "height": 424
        },
        "id": "6ExsQx2JmSiM",
        "outputId": "662576b2-a8b7-4195-80fb-dc4733d5b18b"
      },
      "outputs": [
        {
          "output_type": "execute_result",
          "data": {
            "text/plain": [
              "      IdPassageiro      Idade\n",
              "0                1  22.000000\n",
              "1                2  38.000000\n",
              "2                3  26.000000\n",
              "3                4  35.000000\n",
              "4                5  35.000000\n",
              "...            ...        ...\n",
              "1304          1300  25.163780\n",
              "1305          1302  25.163531\n",
              "1306          1305  29.088798\n",
              "1307          1308  29.088798\n",
              "1308          1309   0.914441\n",
              "\n",
              "[1309 rows x 2 columns]"
            ],
            "text/html": [
              "\n",
              "  <div id=\"df-529553fe-8f1b-4a93-9e7d-22f2af68b081\">\n",
              "    <div class=\"colab-df-container\">\n",
              "      <div>\n",
              "<style scoped>\n",
              "    .dataframe tbody tr th:only-of-type {\n",
              "        vertical-align: middle;\n",
              "    }\n",
              "\n",
              "    .dataframe tbody tr th {\n",
              "        vertical-align: top;\n",
              "    }\n",
              "\n",
              "    .dataframe thead th {\n",
              "        text-align: right;\n",
              "    }\n",
              "</style>\n",
              "<table border=\"1\" class=\"dataframe\">\n",
              "  <thead>\n",
              "    <tr style=\"text-align: right;\">\n",
              "      <th></th>\n",
              "      <th>IdPassageiro</th>\n",
              "      <th>Idade</th>\n",
              "    </tr>\n",
              "  </thead>\n",
              "  <tbody>\n",
              "    <tr>\n",
              "      <th>0</th>\n",
              "      <td>1</td>\n",
              "      <td>22.000000</td>\n",
              "    </tr>\n",
              "    <tr>\n",
              "      <th>1</th>\n",
              "      <td>2</td>\n",
              "      <td>38.000000</td>\n",
              "    </tr>\n",
              "    <tr>\n",
              "      <th>2</th>\n",
              "      <td>3</td>\n",
              "      <td>26.000000</td>\n",
              "    </tr>\n",
              "    <tr>\n",
              "      <th>3</th>\n",
              "      <td>4</td>\n",
              "      <td>35.000000</td>\n",
              "    </tr>\n",
              "    <tr>\n",
              "      <th>4</th>\n",
              "      <td>5</td>\n",
              "      <td>35.000000</td>\n",
              "    </tr>\n",
              "    <tr>\n",
              "      <th>...</th>\n",
              "      <td>...</td>\n",
              "      <td>...</td>\n",
              "    </tr>\n",
              "    <tr>\n",
              "      <th>1304</th>\n",
              "      <td>1300</td>\n",
              "      <td>25.163780</td>\n",
              "    </tr>\n",
              "    <tr>\n",
              "      <th>1305</th>\n",
              "      <td>1302</td>\n",
              "      <td>25.163531</td>\n",
              "    </tr>\n",
              "    <tr>\n",
              "      <th>1306</th>\n",
              "      <td>1305</td>\n",
              "      <td>29.088798</td>\n",
              "    </tr>\n",
              "    <tr>\n",
              "      <th>1307</th>\n",
              "      <td>1308</td>\n",
              "      <td>29.088798</td>\n",
              "    </tr>\n",
              "    <tr>\n",
              "      <th>1308</th>\n",
              "      <td>1309</td>\n",
              "      <td>0.914441</td>\n",
              "    </tr>\n",
              "  </tbody>\n",
              "</table>\n",
              "<p>1309 rows × 2 columns</p>\n",
              "</div>\n",
              "      <button class=\"colab-df-convert\" onclick=\"convertToInteractive('df-529553fe-8f1b-4a93-9e7d-22f2af68b081')\"\n",
              "              title=\"Convert this dataframe to an interactive table.\"\n",
              "              style=\"display:none;\">\n",
              "        \n",
              "  <svg xmlns=\"http://www.w3.org/2000/svg\" height=\"24px\"viewBox=\"0 0 24 24\"\n",
              "       width=\"24px\">\n",
              "    <path d=\"M0 0h24v24H0V0z\" fill=\"none\"/>\n",
              "    <path d=\"M18.56 5.44l.94 2.06.94-2.06 2.06-.94-2.06-.94-.94-2.06-.94 2.06-2.06.94zm-11 1L8.5 8.5l.94-2.06 2.06-.94-2.06-.94L8.5 2.5l-.94 2.06-2.06.94zm10 10l.94 2.06.94-2.06 2.06-.94-2.06-.94-.94-2.06-.94 2.06-2.06.94z\"/><path d=\"M17.41 7.96l-1.37-1.37c-.4-.4-.92-.59-1.43-.59-.52 0-1.04.2-1.43.59L10.3 9.45l-7.72 7.72c-.78.78-.78 2.05 0 2.83L4 21.41c.39.39.9.59 1.41.59.51 0 1.02-.2 1.41-.59l7.78-7.78 2.81-2.81c.8-.78.8-2.07 0-2.86zM5.41 20L4 18.59l7.72-7.72 1.47 1.35L5.41 20z\"/>\n",
              "  </svg>\n",
              "      </button>\n",
              "      \n",
              "  <style>\n",
              "    .colab-df-container {\n",
              "      display:flex;\n",
              "      flex-wrap:wrap;\n",
              "      gap: 12px;\n",
              "    }\n",
              "\n",
              "    .colab-df-convert {\n",
              "      background-color: #E8F0FE;\n",
              "      border: none;\n",
              "      border-radius: 50%;\n",
              "      cursor: pointer;\n",
              "      display: none;\n",
              "      fill: #1967D2;\n",
              "      height: 32px;\n",
              "      padding: 0 0 0 0;\n",
              "      width: 32px;\n",
              "    }\n",
              "\n",
              "    .colab-df-convert:hover {\n",
              "      background-color: #E2EBFA;\n",
              "      box-shadow: 0px 1px 2px rgba(60, 64, 67, 0.3), 0px 1px 3px 1px rgba(60, 64, 67, 0.15);\n",
              "      fill: #174EA6;\n",
              "    }\n",
              "\n",
              "    [theme=dark] .colab-df-convert {\n",
              "      background-color: #3B4455;\n",
              "      fill: #D2E3FC;\n",
              "    }\n",
              "\n",
              "    [theme=dark] .colab-df-convert:hover {\n",
              "      background-color: #434B5C;\n",
              "      box-shadow: 0px 1px 3px 1px rgba(0, 0, 0, 0.15);\n",
              "      filter: drop-shadow(0px 1px 2px rgba(0, 0, 0, 0.3));\n",
              "      fill: #FFFFFF;\n",
              "    }\n",
              "  </style>\n",
              "\n",
              "      <script>\n",
              "        const buttonEl =\n",
              "          document.querySelector('#df-529553fe-8f1b-4a93-9e7d-22f2af68b081 button.colab-df-convert');\n",
              "        buttonEl.style.display =\n",
              "          google.colab.kernel.accessAllowed ? 'block' : 'none';\n",
              "\n",
              "        async function convertToInteractive(key) {\n",
              "          const element = document.querySelector('#df-529553fe-8f1b-4a93-9e7d-22f2af68b081');\n",
              "          const dataTable =\n",
              "            await google.colab.kernel.invokeFunction('convertToInteractive',\n",
              "                                                     [key], {});\n",
              "          if (!dataTable) return;\n",
              "\n",
              "          const docLinkHtml = 'Like what you see? Visit the ' +\n",
              "            '<a target=\"_blank\" href=https://colab.research.google.com/notebooks/data_table.ipynb>data table notebook</a>'\n",
              "            + ' to learn more about interactive tables.';\n",
              "          element.innerHTML = '';\n",
              "          dataTable['output_type'] = 'display_data';\n",
              "          await google.colab.output.renderOutput(dataTable, element);\n",
              "          const docLink = document.createElement('div');\n",
              "          docLink.innerHTML = docLinkHtml;\n",
              "          element.appendChild(docLink);\n",
              "        }\n",
              "      </script>\n",
              "    </div>\n",
              "  </div>\n",
              "  "
            ]
          },
          "metadata": {},
          "execution_count": 133
        }
      ],
      "source": [
        "data_idade"
      ]
    },
    {
      "cell_type": "code",
      "source": [],
      "metadata": {
        "id": "UmHx2Tfk8M5o"
      },
      "execution_count": null,
      "outputs": []
    }
  ],
  "metadata": {
    "kernelspec": {
      "display_name": "Python 3",
      "language": "python",
      "name": "python3"
    },
    "language_info": {
      "codemirror_mode": {
        "name": "ipython",
        "version": 3
      },
      "file_extension": ".py",
      "mimetype": "text/x-python",
      "name": "python",
      "nbconvert_exporter": "python",
      "pygments_lexer": "ipython3",
      "version": "3.7.3"
    },
    "colab": {
      "provenance": [],
      "collapsed_sections": [],
      "include_colab_link": true
    }
  },
  "nbformat": 4,
  "nbformat_minor": 0
}